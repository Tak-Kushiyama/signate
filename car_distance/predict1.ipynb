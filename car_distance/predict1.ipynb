{
 "cells": [
  {
   "cell_type": "markdown",
   "id": "aa85fa13",
   "metadata": {},
   "source": [
    "# Signate【練習問題】自動車の走行距離予測"
   ]
  },
  {
   "cell_type": "code",
   "execution_count": 1,
   "id": "808c880e",
   "metadata": {},
   "outputs": [],
   "source": [
    "import pandas as pd\n",
    "import numpy as np\n",
    "from matplotlib import pyplot as plt\n",
    "%matplotlib inline"
   ]
  },
  {
   "cell_type": "markdown",
   "id": "5a34e687",
   "metadata": {},
   "source": [
    "### ファイル読み込み"
   ]
  },
  {
   "cell_type": "code",
   "execution_count": 2,
   "id": "65c68ee1",
   "metadata": {},
   "outputs": [],
   "source": [
    "train = pd.read_csv('train.tsv', delimiter='\\t')\n",
    "test = pd.read_csv('test.tsv', delimiter='\\t')\n",
    "sample = pd.read_csv('sample_submit.csv', header = None)"
   ]
  },
  {
   "cell_type": "code",
   "execution_count": 3,
   "id": "4b37fa53",
   "metadata": {},
   "outputs": [
    {
     "data": {
      "text/html": [
       "<div>\n",
       "<style scoped>\n",
       "    .dataframe tbody tr th:only-of-type {\n",
       "        vertical-align: middle;\n",
       "    }\n",
       "\n",
       "    .dataframe tbody tr th {\n",
       "        vertical-align: top;\n",
       "    }\n",
       "\n",
       "    .dataframe thead th {\n",
       "        text-align: right;\n",
       "    }\n",
       "</style>\n",
       "<table border=\"1\" class=\"dataframe\">\n",
       "  <thead>\n",
       "    <tr style=\"text-align: right;\">\n",
       "      <th></th>\n",
       "      <th>id</th>\n",
       "      <th>mpg</th>\n",
       "      <th>cylinders</th>\n",
       "      <th>displacement</th>\n",
       "      <th>horsepower</th>\n",
       "      <th>weight</th>\n",
       "      <th>acceleration</th>\n",
       "      <th>model year</th>\n",
       "      <th>origin</th>\n",
       "      <th>car name</th>\n",
       "    </tr>\n",
       "  </thead>\n",
       "  <tbody>\n",
       "    <tr>\n",
       "      <th>0</th>\n",
       "      <td>0</td>\n",
       "      <td>29.0</td>\n",
       "      <td>4</td>\n",
       "      <td>135.0</td>\n",
       "      <td>84.00</td>\n",
       "      <td>2525.0</td>\n",
       "      <td>16.0</td>\n",
       "      <td>82</td>\n",
       "      <td>1</td>\n",
       "      <td>dodge aries se</td>\n",
       "    </tr>\n",
       "    <tr>\n",
       "      <th>1</th>\n",
       "      <td>3</td>\n",
       "      <td>31.9</td>\n",
       "      <td>4</td>\n",
       "      <td>89.0</td>\n",
       "      <td>71.00</td>\n",
       "      <td>1925.0</td>\n",
       "      <td>14.0</td>\n",
       "      <td>79</td>\n",
       "      <td>2</td>\n",
       "      <td>vw rabbit custom</td>\n",
       "    </tr>\n",
       "    <tr>\n",
       "      <th>2</th>\n",
       "      <td>9</td>\n",
       "      <td>19.0</td>\n",
       "      <td>6</td>\n",
       "      <td>156.0</td>\n",
       "      <td>108.0</td>\n",
       "      <td>2930.0</td>\n",
       "      <td>15.5</td>\n",
       "      <td>76</td>\n",
       "      <td>3</td>\n",
       "      <td>toyota mark ii</td>\n",
       "    </tr>\n",
       "    <tr>\n",
       "      <th>3</th>\n",
       "      <td>11</td>\n",
       "      <td>28.0</td>\n",
       "      <td>4</td>\n",
       "      <td>90.0</td>\n",
       "      <td>75.00</td>\n",
       "      <td>2125.0</td>\n",
       "      <td>14.5</td>\n",
       "      <td>74</td>\n",
       "      <td>1</td>\n",
       "      <td>dodge colt</td>\n",
       "    </tr>\n",
       "    <tr>\n",
       "      <th>4</th>\n",
       "      <td>13</td>\n",
       "      <td>37.7</td>\n",
       "      <td>4</td>\n",
       "      <td>89.0</td>\n",
       "      <td>62.00</td>\n",
       "      <td>2050.0</td>\n",
       "      <td>17.3</td>\n",
       "      <td>81</td>\n",
       "      <td>3</td>\n",
       "      <td>toyota tercel</td>\n",
       "    </tr>\n",
       "  </tbody>\n",
       "</table>\n",
       "</div>"
      ],
      "text/plain": [
       "   id   mpg  cylinders  displacement horsepower  weight  acceleration  \\\n",
       "0   0  29.0          4         135.0      84.00  2525.0          16.0   \n",
       "1   3  31.9          4          89.0      71.00  1925.0          14.0   \n",
       "2   9  19.0          6         156.0      108.0  2930.0          15.5   \n",
       "3  11  28.0          4          90.0      75.00  2125.0          14.5   \n",
       "4  13  37.7          4          89.0      62.00  2050.0          17.3   \n",
       "\n",
       "   model year  origin          car name  \n",
       "0          82       1    dodge aries se  \n",
       "1          79       2  vw rabbit custom  \n",
       "2          76       3    toyota mark ii  \n",
       "3          74       1        dodge colt  \n",
       "4          81       3     toyota tercel  "
      ]
     },
     "execution_count": 3,
     "metadata": {},
     "output_type": "execute_result"
    }
   ],
   "source": [
    "train.head()"
   ]
  },
  {
   "cell_type": "code",
   "execution_count": 4,
   "id": "f1697e2a",
   "metadata": {},
   "outputs": [
    {
     "data": {
      "text/html": [
       "<div>\n",
       "<style scoped>\n",
       "    .dataframe tbody tr th:only-of-type {\n",
       "        vertical-align: middle;\n",
       "    }\n",
       "\n",
       "    .dataframe tbody tr th {\n",
       "        vertical-align: top;\n",
       "    }\n",
       "\n",
       "    .dataframe thead th {\n",
       "        text-align: right;\n",
       "    }\n",
       "</style>\n",
       "<table border=\"1\" class=\"dataframe\">\n",
       "  <thead>\n",
       "    <tr style=\"text-align: right;\">\n",
       "      <th></th>\n",
       "      <th>id</th>\n",
       "      <th>cylinders</th>\n",
       "      <th>displacement</th>\n",
       "      <th>horsepower</th>\n",
       "      <th>weight</th>\n",
       "      <th>acceleration</th>\n",
       "      <th>model year</th>\n",
       "      <th>origin</th>\n",
       "      <th>car name</th>\n",
       "    </tr>\n",
       "  </thead>\n",
       "  <tbody>\n",
       "    <tr>\n",
       "      <th>0</th>\n",
       "      <td>1</td>\n",
       "      <td>6</td>\n",
       "      <td>145.0</td>\n",
       "      <td>76.00</td>\n",
       "      <td>3160.0</td>\n",
       "      <td>19.6</td>\n",
       "      <td>81</td>\n",
       "      <td>2</td>\n",
       "      <td>volvo diesel</td>\n",
       "    </tr>\n",
       "    <tr>\n",
       "      <th>1</th>\n",
       "      <td>2</td>\n",
       "      <td>6</td>\n",
       "      <td>250.0</td>\n",
       "      <td>98.00</td>\n",
       "      <td>3525.0</td>\n",
       "      <td>19.0</td>\n",
       "      <td>77</td>\n",
       "      <td>1</td>\n",
       "      <td>ford granada</td>\n",
       "    </tr>\n",
       "    <tr>\n",
       "      <th>2</th>\n",
       "      <td>4</td>\n",
       "      <td>4</td>\n",
       "      <td>119.0</td>\n",
       "      <td>92.00</td>\n",
       "      <td>2434.0</td>\n",
       "      <td>15.0</td>\n",
       "      <td>80</td>\n",
       "      <td>3</td>\n",
       "      <td>datsun 510 hatchback</td>\n",
       "    </tr>\n",
       "    <tr>\n",
       "      <th>3</th>\n",
       "      <td>5</td>\n",
       "      <td>6</td>\n",
       "      <td>258.0</td>\n",
       "      <td>110.0</td>\n",
       "      <td>2962.0</td>\n",
       "      <td>13.5</td>\n",
       "      <td>71</td>\n",
       "      <td>1</td>\n",
       "      <td>amc hornet sportabout (sw)</td>\n",
       "    </tr>\n",
       "    <tr>\n",
       "      <th>4</th>\n",
       "      <td>6</td>\n",
       "      <td>4</td>\n",
       "      <td>97.0</td>\n",
       "      <td>88.00</td>\n",
       "      <td>2100.0</td>\n",
       "      <td>16.5</td>\n",
       "      <td>72</td>\n",
       "      <td>3</td>\n",
       "      <td>toyota corolla 1600 (sw)</td>\n",
       "    </tr>\n",
       "  </tbody>\n",
       "</table>\n",
       "</div>"
      ],
      "text/plain": [
       "   id  cylinders  displacement horsepower  weight  acceleration  model year  \\\n",
       "0   1          6         145.0      76.00  3160.0          19.6          81   \n",
       "1   2          6         250.0      98.00  3525.0          19.0          77   \n",
       "2   4          4         119.0      92.00  2434.0          15.0          80   \n",
       "3   5          6         258.0      110.0  2962.0          13.5          71   \n",
       "4   6          4          97.0      88.00  2100.0          16.5          72   \n",
       "\n",
       "   origin                    car name  \n",
       "0       2                volvo diesel  \n",
       "1       1                ford granada  \n",
       "2       3        datsun 510 hatchback  \n",
       "3       1  amc hornet sportabout (sw)  \n",
       "4       3    toyota corolla 1600 (sw)  "
      ]
     },
     "execution_count": 4,
     "metadata": {},
     "output_type": "execute_result"
    }
   ],
   "source": [
    "test.head()"
   ]
  },
  {
   "cell_type": "code",
   "execution_count": 5,
   "id": "a2a683cc",
   "metadata": {},
   "outputs": [
    {
     "data": {
      "text/html": [
       "<div>\n",
       "<style scoped>\n",
       "    .dataframe tbody tr th:only-of-type {\n",
       "        vertical-align: middle;\n",
       "    }\n",
       "\n",
       "    .dataframe tbody tr th {\n",
       "        vertical-align: top;\n",
       "    }\n",
       "\n",
       "    .dataframe thead th {\n",
       "        text-align: right;\n",
       "    }\n",
       "</style>\n",
       "<table border=\"1\" class=\"dataframe\">\n",
       "  <thead>\n",
       "    <tr style=\"text-align: right;\">\n",
       "      <th></th>\n",
       "      <th>0</th>\n",
       "      <th>1</th>\n",
       "    </tr>\n",
       "  </thead>\n",
       "  <tbody>\n",
       "    <tr>\n",
       "      <th>0</th>\n",
       "      <td>1</td>\n",
       "      <td>19.8</td>\n",
       "    </tr>\n",
       "    <tr>\n",
       "      <th>1</th>\n",
       "      <td>2</td>\n",
       "      <td>31.3</td>\n",
       "    </tr>\n",
       "    <tr>\n",
       "      <th>2</th>\n",
       "      <td>4</td>\n",
       "      <td>31.9</td>\n",
       "    </tr>\n",
       "    <tr>\n",
       "      <th>3</th>\n",
       "      <td>5</td>\n",
       "      <td>20.0</td>\n",
       "    </tr>\n",
       "    <tr>\n",
       "      <th>4</th>\n",
       "      <td>6</td>\n",
       "      <td>16.5</td>\n",
       "    </tr>\n",
       "  </tbody>\n",
       "</table>\n",
       "</div>"
      ],
      "text/plain": [
       "   0     1\n",
       "0  1  19.8\n",
       "1  2  31.3\n",
       "2  4  31.9\n",
       "3  5  20.0\n",
       "4  6  16.5"
      ]
     },
     "execution_count": 5,
     "metadata": {},
     "output_type": "execute_result"
    }
   ],
   "source": [
    "sample.head()"
   ]
  },
  {
   "cell_type": "markdown",
   "id": "af99f976",
   "metadata": {},
   "source": [
    "### 可視化"
   ]
  },
  {
   "cell_type": "code",
   "execution_count": 6,
   "id": "c75d5843",
   "metadata": {},
   "outputs": [
    {
     "data": {
      "text/html": [
       "<div>\n",
       "<style scoped>\n",
       "    .dataframe tbody tr th:only-of-type {\n",
       "        vertical-align: middle;\n",
       "    }\n",
       "\n",
       "    .dataframe tbody tr th {\n",
       "        vertical-align: top;\n",
       "    }\n",
       "\n",
       "    .dataframe thead th {\n",
       "        text-align: right;\n",
       "    }\n",
       "</style>\n",
       "<table border=\"1\" class=\"dataframe\">\n",
       "  <thead>\n",
       "    <tr style=\"text-align: right;\">\n",
       "      <th></th>\n",
       "      <th>id</th>\n",
       "      <th>mpg</th>\n",
       "      <th>cylinders</th>\n",
       "      <th>displacement</th>\n",
       "      <th>weight</th>\n",
       "      <th>acceleration</th>\n",
       "      <th>model year</th>\n",
       "      <th>origin</th>\n",
       "    </tr>\n",
       "  </thead>\n",
       "  <tbody>\n",
       "    <tr>\n",
       "      <th>id</th>\n",
       "      <td>1.000000</td>\n",
       "      <td>-0.052688</td>\n",
       "      <td>0.103419</td>\n",
       "      <td>0.098416</td>\n",
       "      <td>0.070563</td>\n",
       "      <td>-0.087649</td>\n",
       "      <td>-0.093272</td>\n",
       "      <td>-0.031421</td>\n",
       "    </tr>\n",
       "    <tr>\n",
       "      <th>mpg</th>\n",
       "      <td>-0.052688</td>\n",
       "      <td>1.000000</td>\n",
       "      <td>-0.770160</td>\n",
       "      <td>-0.804635</td>\n",
       "      <td>-0.820660</td>\n",
       "      <td>0.379721</td>\n",
       "      <td>0.568471</td>\n",
       "      <td>0.533671</td>\n",
       "    </tr>\n",
       "    <tr>\n",
       "      <th>cylinders</th>\n",
       "      <td>0.103419</td>\n",
       "      <td>-0.770160</td>\n",
       "      <td>1.000000</td>\n",
       "      <td>0.950600</td>\n",
       "      <td>0.893256</td>\n",
       "      <td>-0.479561</td>\n",
       "      <td>-0.303462</td>\n",
       "      <td>-0.497373</td>\n",
       "    </tr>\n",
       "    <tr>\n",
       "      <th>displacement</th>\n",
       "      <td>0.098416</td>\n",
       "      <td>-0.804635</td>\n",
       "      <td>0.950600</td>\n",
       "      <td>1.000000</td>\n",
       "      <td>0.933038</td>\n",
       "      <td>-0.523955</td>\n",
       "      <td>-0.329817</td>\n",
       "      <td>-0.579805</td>\n",
       "    </tr>\n",
       "    <tr>\n",
       "      <th>weight</th>\n",
       "      <td>0.070563</td>\n",
       "      <td>-0.820660</td>\n",
       "      <td>0.893256</td>\n",
       "      <td>0.933038</td>\n",
       "      <td>1.000000</td>\n",
       "      <td>-0.401757</td>\n",
       "      <td>-0.265562</td>\n",
       "      <td>-0.535893</td>\n",
       "    </tr>\n",
       "    <tr>\n",
       "      <th>acceleration</th>\n",
       "      <td>-0.087649</td>\n",
       "      <td>0.379721</td>\n",
       "      <td>-0.479561</td>\n",
       "      <td>-0.523955</td>\n",
       "      <td>-0.401757</td>\n",
       "      <td>1.000000</td>\n",
       "      <td>0.194854</td>\n",
       "      <td>0.189193</td>\n",
       "    </tr>\n",
       "    <tr>\n",
       "      <th>model year</th>\n",
       "      <td>-0.093272</td>\n",
       "      <td>0.568471</td>\n",
       "      <td>-0.303462</td>\n",
       "      <td>-0.329817</td>\n",
       "      <td>-0.265562</td>\n",
       "      <td>0.194854</td>\n",
       "      <td>1.000000</td>\n",
       "      <td>0.124279</td>\n",
       "    </tr>\n",
       "    <tr>\n",
       "      <th>origin</th>\n",
       "      <td>-0.031421</td>\n",
       "      <td>0.533671</td>\n",
       "      <td>-0.497373</td>\n",
       "      <td>-0.579805</td>\n",
       "      <td>-0.535893</td>\n",
       "      <td>0.189193</td>\n",
       "      <td>0.124279</td>\n",
       "      <td>1.000000</td>\n",
       "    </tr>\n",
       "  </tbody>\n",
       "</table>\n",
       "</div>"
      ],
      "text/plain": [
       "                    id       mpg  cylinders  displacement    weight  \\\n",
       "id            1.000000 -0.052688   0.103419      0.098416  0.070563   \n",
       "mpg          -0.052688  1.000000  -0.770160     -0.804635 -0.820660   \n",
       "cylinders     0.103419 -0.770160   1.000000      0.950600  0.893256   \n",
       "displacement  0.098416 -0.804635   0.950600      1.000000  0.933038   \n",
       "weight        0.070563 -0.820660   0.893256      0.933038  1.000000   \n",
       "acceleration -0.087649  0.379721  -0.479561     -0.523955 -0.401757   \n",
       "model year   -0.093272  0.568471  -0.303462     -0.329817 -0.265562   \n",
       "origin       -0.031421  0.533671  -0.497373     -0.579805 -0.535893   \n",
       "\n",
       "              acceleration  model year    origin  \n",
       "id               -0.087649   -0.093272 -0.031421  \n",
       "mpg               0.379721    0.568471  0.533671  \n",
       "cylinders        -0.479561   -0.303462 -0.497373  \n",
       "displacement     -0.523955   -0.329817 -0.579805  \n",
       "weight           -0.401757   -0.265562 -0.535893  \n",
       "acceleration      1.000000    0.194854  0.189193  \n",
       "model year        0.194854    1.000000  0.124279  \n",
       "origin            0.189193    0.124279  1.000000  "
      ]
     },
     "execution_count": 6,
     "metadata": {},
     "output_type": "execute_result"
    }
   ],
   "source": [
    "train.corr()"
   ]
  },
  {
   "cell_type": "code",
   "execution_count": 9,
   "id": "ffc9db97",
   "metadata": {},
   "outputs": [],
   "source": [
    "invalid_id_list = train[train['horsepower'] == '?'].index"
   ]
  },
  {
   "cell_type": "code",
   "execution_count": 10,
   "id": "10af9cd0",
   "metadata": {},
   "outputs": [
    {
     "data": {
      "text/plain": [
       "Int64Index([24, 113, 145, 175], dtype='int64')"
      ]
     },
     "execution_count": 10,
     "metadata": {},
     "output_type": "execute_result"
    }
   ],
   "source": [
    "invalid_id_list"
   ]
  },
  {
   "cell_type": "code",
   "execution_count": 12,
   "id": "6e63ab06",
   "metadata": {},
   "outputs": [],
   "source": [
    "train_temp = train.drop(invalid_id_list)"
   ]
  },
  {
   "cell_type": "code",
   "execution_count": 13,
   "id": "b253c2fc",
   "metadata": {},
   "outputs": [],
   "source": [
    "train_temp['horsepower'] = train_temp['horsepower'].astype(float)"
   ]
  },
  {
   "cell_type": "code",
   "execution_count": 17,
   "id": "26fad434",
   "metadata": {},
   "outputs": [
    {
     "data": {
      "text/plain": [
       "<AxesSubplot:ylabel='Frequency'>"
      ]
     },
     "execution_count": 17,
     "metadata": {},
     "output_type": "execute_result"
    },
    {
     "data": {
      "image/png": "[encoded data removed]",
      "text/plain": [
       "<Figure size 432x288 with 1 Axes>"
      ]
     },
     "metadata": {
      "needs_background": "light"
     },
     "output_type": "display_data"
    }
   ],
   "source": [
    "plt.axvline(x=train_temp['horsepower'].median(), color='red')\n",
    "train_temp['horsepower'].plot.hist()"
   ]
  },
  {
   "cell_type": "code",
   "execution_count": 18,
   "id": "188ba923",
   "metadata": {},
   "outputs": [],
   "source": [
    "train_horse_median = train_temp['horsepower'].median()"
   ]
  },
  {
   "cell_type": "code",
   "execution_count": null,
   "id": "0a428566",
   "metadata": {},
   "outputs": [],
   "source": []
  },
  {
   "cell_type": "code",
   "execution_count": 20,
   "id": "85ff765e",
   "metadata": {},
   "outputs": [],
   "source": [
    "invalid_id_list = test[test['horsepower'] == '?'].index"
   ]
  },
  {
   "cell_type": "code",
   "execution_count": 21,
   "id": "08771dd2",
   "metadata": {},
   "outputs": [],
   "source": [
    "test_temp = test.drop(invalid_id_list)"
   ]
  },
  {
   "cell_type": "code",
   "execution_count": 22,
   "id": "37af0592",
   "metadata": {
    "scrolled": true
   },
   "outputs": [],
   "source": [
    "test_temp['horsepower'] = test_temp['horsepower'].astype(float)"
   ]
  },
  {
   "cell_type": "code",
   "execution_count": 23,
   "id": "3d6c3951",
   "metadata": {},
   "outputs": [],
   "source": [
    "test_horse_median = test_temp['horsepower'].median()"
   ]
  },
  {
   "cell_type": "code",
   "execution_count": 24,
   "id": "5926c446",
   "metadata": {},
   "outputs": [],
   "source": [
    "train[train['horsepower'] == '?'] = train_horse_median"
   ]
  },
  {
   "cell_type": "code",
   "execution_count": 25,
   "id": "c1b87a43",
   "metadata": {},
   "outputs": [],
   "source": [
    "test[test['horsepower'] == '?'] = test_horse_median"
   ]
  },
  {
   "cell_type": "code",
   "execution_count": 27,
   "id": "4b2369c4",
   "metadata": {},
   "outputs": [],
   "source": [
    "train['horsepower'] = train['horsepower'].astype(float)\n",
    "test['horsepower'] = test['horsepower'].astype(float)"
   ]
  },
  {
   "cell_type": "raw",
   "id": "a8842397",
   "metadata": {},
   "source": []
  },
  {
   "cell_type": "code",
   "execution_count": null,
   "id": "6b75d221",
   "metadata": {},
   "outputs": [],
   "source": []
  },
  {
   "cell_type": "markdown",
   "id": "cc9ae172",
   "metadata": {},
   "source": [
    "### 特徴量の追加"
   ]
  },
  {
   "cell_type": "code",
   "execution_count": 28,
   "id": "aea3dd5d",
   "metadata": {},
   "outputs": [
    {
     "name": "stdout",
     "output_type": "stream",
     "text": [
      "<class 'pandas.core.frame.DataFrame'>\n",
      "RangeIndex: 199 entries, 0 to 198\n",
      "Data columns (total 10 columns):\n",
      " #   Column        Non-Null Count  Dtype  \n",
      "---  ------        --------------  -----  \n",
      " 0   id            199 non-null    int64  \n",
      " 1   mpg           199 non-null    float64\n",
      " 2   cylinders     199 non-null    int64  \n",
      " 3   displacement  199 non-null    float64\n",
      " 4   horsepower    199 non-null    float64\n",
      " 5   weight        199 non-null    float64\n",
      " 6   acceleration  199 non-null    float64\n",
      " 7   model year    199 non-null    int64  \n",
      " 8   origin        199 non-null    int64  \n",
      " 9   car name      199 non-null    object \n",
      "dtypes: float64(5), int64(4), object(1)\n",
      "memory usage: 15.7+ KB\n"
     ]
    }
   ],
   "source": [
    "train.info()"
   ]
  },
  {
   "cell_type": "code",
   "execution_count": 29,
   "id": "05980605",
   "metadata": {},
   "outputs": [
    {
     "data": {
      "text/html": [
       "<div>\n",
       "<style scoped>\n",
       "    .dataframe tbody tr th:only-of-type {\n",
       "        vertical-align: middle;\n",
       "    }\n",
       "\n",
       "    .dataframe tbody tr th {\n",
       "        vertical-align: top;\n",
       "    }\n",
       "\n",
       "    .dataframe thead th {\n",
       "        text-align: right;\n",
       "    }\n",
       "</style>\n",
       "<table border=\"1\" class=\"dataframe\">\n",
       "  <thead>\n",
       "    <tr style=\"text-align: right;\">\n",
       "      <th></th>\n",
       "      <th>id</th>\n",
       "      <th>mpg</th>\n",
       "      <th>cylinders</th>\n",
       "      <th>displacement</th>\n",
       "      <th>horsepower</th>\n",
       "      <th>weight</th>\n",
       "      <th>acceleration</th>\n",
       "      <th>model year</th>\n",
       "      <th>origin</th>\n",
       "      <th>car name</th>\n",
       "    </tr>\n",
       "  </thead>\n",
       "  <tbody>\n",
       "    <tr>\n",
       "      <th>0</th>\n",
       "      <td>0</td>\n",
       "      <td>29.0</td>\n",
       "      <td>4</td>\n",
       "      <td>135.0</td>\n",
       "      <td>84.0</td>\n",
       "      <td>2525.0</td>\n",
       "      <td>16.0</td>\n",
       "      <td>82</td>\n",
       "      <td>1</td>\n",
       "      <td>dodge aries se</td>\n",
       "    </tr>\n",
       "    <tr>\n",
       "      <th>1</th>\n",
       "      <td>3</td>\n",
       "      <td>31.9</td>\n",
       "      <td>4</td>\n",
       "      <td>89.0</td>\n",
       "      <td>71.0</td>\n",
       "      <td>1925.0</td>\n",
       "      <td>14.0</td>\n",
       "      <td>79</td>\n",
       "      <td>2</td>\n",
       "      <td>vw rabbit custom</td>\n",
       "    </tr>\n",
       "    <tr>\n",
       "      <th>2</th>\n",
       "      <td>9</td>\n",
       "      <td>19.0</td>\n",
       "      <td>6</td>\n",
       "      <td>156.0</td>\n",
       "      <td>108.0</td>\n",
       "      <td>2930.0</td>\n",
       "      <td>15.5</td>\n",
       "      <td>76</td>\n",
       "      <td>3</td>\n",
       "      <td>toyota mark ii</td>\n",
       "    </tr>\n",
       "    <tr>\n",
       "      <th>3</th>\n",
       "      <td>11</td>\n",
       "      <td>28.0</td>\n",
       "      <td>4</td>\n",
       "      <td>90.0</td>\n",
       "      <td>75.0</td>\n",
       "      <td>2125.0</td>\n",
       "      <td>14.5</td>\n",
       "      <td>74</td>\n",
       "      <td>1</td>\n",
       "      <td>dodge colt</td>\n",
       "    </tr>\n",
       "    <tr>\n",
       "      <th>4</th>\n",
       "      <td>13</td>\n",
       "      <td>37.7</td>\n",
       "      <td>4</td>\n",
       "      <td>89.0</td>\n",
       "      <td>62.0</td>\n",
       "      <td>2050.0</td>\n",
       "      <td>17.3</td>\n",
       "      <td>81</td>\n",
       "      <td>3</td>\n",
       "      <td>toyota tercel</td>\n",
       "    </tr>\n",
       "  </tbody>\n",
       "</table>\n",
       "</div>"
      ],
      "text/plain": [
       "   id   mpg  cylinders  displacement  horsepower  weight  acceleration  \\\n",
       "0   0  29.0          4         135.0        84.0  2525.0          16.0   \n",
       "1   3  31.9          4          89.0        71.0  1925.0          14.0   \n",
       "2   9  19.0          6         156.0       108.0  2930.0          15.5   \n",
       "3  11  28.0          4          90.0        75.0  2125.0          14.5   \n",
       "4  13  37.7          4          89.0        62.0  2050.0          17.3   \n",
       "\n",
       "   model year  origin          car name  \n",
       "0          82       1    dodge aries se  \n",
       "1          79       2  vw rabbit custom  \n",
       "2          76       3    toyota mark ii  \n",
       "3          74       1        dodge colt  \n",
       "4          81       3     toyota tercel  "
      ]
     },
     "execution_count": 29,
     "metadata": {},
     "output_type": "execute_result"
    }
   ],
   "source": [
    "train.head()"
   ]
  },
  {
   "cell_type": "code",
   "execution_count": 30,
   "id": "7a8e47e8",
   "metadata": {},
   "outputs": [],
   "source": [
    "train['horsepower'] = train['horsepower'].astype(float)"
   ]
  },
  {
   "cell_type": "code",
   "execution_count": 31,
   "id": "2104c6ec",
   "metadata": {},
   "outputs": [],
   "source": [
    "train['horse_weight'] = train['horsepower'] / train['weight']"
   ]
  },
  {
   "cell_type": "code",
   "execution_count": 32,
   "id": "f595db0f",
   "metadata": {},
   "outputs": [
    {
     "data": {
      "text/html": [
       "<div>\n",
       "<style scoped>\n",
       "    .dataframe tbody tr th:only-of-type {\n",
       "        vertical-align: middle;\n",
       "    }\n",
       "\n",
       "    .dataframe tbody tr th {\n",
       "        vertical-align: top;\n",
       "    }\n",
       "\n",
       "    .dataframe thead th {\n",
       "        text-align: right;\n",
       "    }\n",
       "</style>\n",
       "<table border=\"1\" class=\"dataframe\">\n",
       "  <thead>\n",
       "    <tr style=\"text-align: right;\">\n",
       "      <th></th>\n",
       "      <th>id</th>\n",
       "      <th>mpg</th>\n",
       "      <th>cylinders</th>\n",
       "      <th>displacement</th>\n",
       "      <th>horsepower</th>\n",
       "      <th>weight</th>\n",
       "      <th>acceleration</th>\n",
       "      <th>model year</th>\n",
       "      <th>origin</th>\n",
       "      <th>car name</th>\n",
       "      <th>horse_weight</th>\n",
       "    </tr>\n",
       "  </thead>\n",
       "  <tbody>\n",
       "    <tr>\n",
       "      <th>0</th>\n",
       "      <td>0</td>\n",
       "      <td>29.0</td>\n",
       "      <td>4</td>\n",
       "      <td>135.0</td>\n",
       "      <td>84.0</td>\n",
       "      <td>2525.0</td>\n",
       "      <td>16.0</td>\n",
       "      <td>82</td>\n",
       "      <td>1</td>\n",
       "      <td>dodge aries se</td>\n",
       "      <td>0.033267</td>\n",
       "    </tr>\n",
       "    <tr>\n",
       "      <th>1</th>\n",
       "      <td>3</td>\n",
       "      <td>31.9</td>\n",
       "      <td>4</td>\n",
       "      <td>89.0</td>\n",
       "      <td>71.0</td>\n",
       "      <td>1925.0</td>\n",
       "      <td>14.0</td>\n",
       "      <td>79</td>\n",
       "      <td>2</td>\n",
       "      <td>vw rabbit custom</td>\n",
       "      <td>0.036883</td>\n",
       "    </tr>\n",
       "    <tr>\n",
       "      <th>2</th>\n",
       "      <td>9</td>\n",
       "      <td>19.0</td>\n",
       "      <td>6</td>\n",
       "      <td>156.0</td>\n",
       "      <td>108.0</td>\n",
       "      <td>2930.0</td>\n",
       "      <td>15.5</td>\n",
       "      <td>76</td>\n",
       "      <td>3</td>\n",
       "      <td>toyota mark ii</td>\n",
       "      <td>0.036860</td>\n",
       "    </tr>\n",
       "    <tr>\n",
       "      <th>3</th>\n",
       "      <td>11</td>\n",
       "      <td>28.0</td>\n",
       "      <td>4</td>\n",
       "      <td>90.0</td>\n",
       "      <td>75.0</td>\n",
       "      <td>2125.0</td>\n",
       "      <td>14.5</td>\n",
       "      <td>74</td>\n",
       "      <td>1</td>\n",
       "      <td>dodge colt</td>\n",
       "      <td>0.035294</td>\n",
       "    </tr>\n",
       "    <tr>\n",
       "      <th>4</th>\n",
       "      <td>13</td>\n",
       "      <td>37.7</td>\n",
       "      <td>4</td>\n",
       "      <td>89.0</td>\n",
       "      <td>62.0</td>\n",
       "      <td>2050.0</td>\n",
       "      <td>17.3</td>\n",
       "      <td>81</td>\n",
       "      <td>3</td>\n",
       "      <td>toyota tercel</td>\n",
       "      <td>0.030244</td>\n",
       "    </tr>\n",
       "  </tbody>\n",
       "</table>\n",
       "</div>"
      ],
      "text/plain": [
       "   id   mpg  cylinders  displacement  horsepower  weight  acceleration  \\\n",
       "0   0  29.0          4         135.0        84.0  2525.0          16.0   \n",
       "1   3  31.9          4          89.0        71.0  1925.0          14.0   \n",
       "2   9  19.0          6         156.0       108.0  2930.0          15.5   \n",
       "3  11  28.0          4          90.0        75.0  2125.0          14.5   \n",
       "4  13  37.7          4          89.0        62.0  2050.0          17.3   \n",
       "\n",
       "   model year  origin          car name  horse_weight  \n",
       "0          82       1    dodge aries se      0.033267  \n",
       "1          79       2  vw rabbit custom      0.036883  \n",
       "2          76       3    toyota mark ii      0.036860  \n",
       "3          74       1        dodge colt      0.035294  \n",
       "4          81       3     toyota tercel      0.030244  "
      ]
     },
     "execution_count": 32,
     "metadata": {},
     "output_type": "execute_result"
    }
   ],
   "source": [
    "train.head()"
   ]
  },
  {
   "cell_type": "code",
   "execution_count": 33,
   "id": "582b8067",
   "metadata": {},
   "outputs": [],
   "source": [
    "test['horsepower'] = test['horsepower'].astype(float)"
   ]
  },
  {
   "cell_type": "code",
   "execution_count": 34,
   "id": "80ab52de",
   "metadata": {},
   "outputs": [
    {
     "data": {
      "text/html": [
       "<div>\n",
       "<style scoped>\n",
       "    .dataframe tbody tr th:only-of-type {\n",
       "        vertical-align: middle;\n",
       "    }\n",
       "\n",
       "    .dataframe tbody tr th {\n",
       "        vertical-align: top;\n",
       "    }\n",
       "\n",
       "    .dataframe thead th {\n",
       "        text-align: right;\n",
       "    }\n",
       "</style>\n",
       "<table border=\"1\" class=\"dataframe\">\n",
       "  <thead>\n",
       "    <tr style=\"text-align: right;\">\n",
       "      <th></th>\n",
       "      <th>id</th>\n",
       "      <th>cylinders</th>\n",
       "      <th>displacement</th>\n",
       "      <th>horsepower</th>\n",
       "      <th>weight</th>\n",
       "      <th>acceleration</th>\n",
       "      <th>model year</th>\n",
       "      <th>origin</th>\n",
       "      <th>car name</th>\n",
       "      <th>horse_weight</th>\n",
       "    </tr>\n",
       "  </thead>\n",
       "  <tbody>\n",
       "    <tr>\n",
       "      <th>0</th>\n",
       "      <td>1</td>\n",
       "      <td>6</td>\n",
       "      <td>145.0</td>\n",
       "      <td>76.0</td>\n",
       "      <td>3160.0</td>\n",
       "      <td>19.6</td>\n",
       "      <td>81</td>\n",
       "      <td>2</td>\n",
       "      <td>volvo diesel</td>\n",
       "      <td>0.024051</td>\n",
       "    </tr>\n",
       "    <tr>\n",
       "      <th>1</th>\n",
       "      <td>2</td>\n",
       "      <td>6</td>\n",
       "      <td>250.0</td>\n",
       "      <td>98.0</td>\n",
       "      <td>3525.0</td>\n",
       "      <td>19.0</td>\n",
       "      <td>77</td>\n",
       "      <td>1</td>\n",
       "      <td>ford granada</td>\n",
       "      <td>0.027801</td>\n",
       "    </tr>\n",
       "    <tr>\n",
       "      <th>2</th>\n",
       "      <td>4</td>\n",
       "      <td>4</td>\n",
       "      <td>119.0</td>\n",
       "      <td>92.0</td>\n",
       "      <td>2434.0</td>\n",
       "      <td>15.0</td>\n",
       "      <td>80</td>\n",
       "      <td>3</td>\n",
       "      <td>datsun 510 hatchback</td>\n",
       "      <td>0.037798</td>\n",
       "    </tr>\n",
       "    <tr>\n",
       "      <th>3</th>\n",
       "      <td>5</td>\n",
       "      <td>6</td>\n",
       "      <td>258.0</td>\n",
       "      <td>110.0</td>\n",
       "      <td>2962.0</td>\n",
       "      <td>13.5</td>\n",
       "      <td>71</td>\n",
       "      <td>1</td>\n",
       "      <td>amc hornet sportabout (sw)</td>\n",
       "      <td>0.037137</td>\n",
       "    </tr>\n",
       "    <tr>\n",
       "      <th>4</th>\n",
       "      <td>6</td>\n",
       "      <td>4</td>\n",
       "      <td>97.0</td>\n",
       "      <td>88.0</td>\n",
       "      <td>2100.0</td>\n",
       "      <td>16.5</td>\n",
       "      <td>72</td>\n",
       "      <td>3</td>\n",
       "      <td>toyota corolla 1600 (sw)</td>\n",
       "      <td>0.041905</td>\n",
       "    </tr>\n",
       "  </tbody>\n",
       "</table>\n",
       "</div>"
      ],
      "text/plain": [
       "   id  cylinders  displacement  horsepower  weight  acceleration  model year  \\\n",
       "0   1          6         145.0        76.0  3160.0          19.6          81   \n",
       "1   2          6         250.0        98.0  3525.0          19.0          77   \n",
       "2   4          4         119.0        92.0  2434.0          15.0          80   \n",
       "3   5          6         258.0       110.0  2962.0          13.5          71   \n",
       "4   6          4          97.0        88.0  2100.0          16.5          72   \n",
       "\n",
       "   origin                    car name  horse_weight  \n",
       "0       2                volvo diesel      0.024051  \n",
       "1       1                ford granada      0.027801  \n",
       "2       3        datsun 510 hatchback      0.037798  \n",
       "3       1  amc hornet sportabout (sw)      0.037137  \n",
       "4       3    toyota corolla 1600 (sw)      0.041905  "
      ]
     },
     "execution_count": 34,
     "metadata": {},
     "output_type": "execute_result"
    }
   ],
   "source": [
    "test['horse_weight'] = test['horsepower'] / test['weight']\n",
    "test.head()"
   ]
  },
  {
   "cell_type": "code",
   "execution_count": 35,
   "id": "5db7e6ad",
   "metadata": {},
   "outputs": [
    {
     "data": {
      "text/html": [
       "<div>\n",
       "<style scoped>\n",
       "    .dataframe tbody tr th:only-of-type {\n",
       "        vertical-align: middle;\n",
       "    }\n",
       "\n",
       "    .dataframe tbody tr th {\n",
       "        vertical-align: top;\n",
       "    }\n",
       "\n",
       "    .dataframe thead th {\n",
       "        text-align: right;\n",
       "    }\n",
       "</style>\n",
       "<table border=\"1\" class=\"dataframe\">\n",
       "  <thead>\n",
       "    <tr style=\"text-align: right;\">\n",
       "      <th></th>\n",
       "      <th>id</th>\n",
       "      <th>mpg</th>\n",
       "      <th>cylinders</th>\n",
       "      <th>displacement</th>\n",
       "      <th>horsepower</th>\n",
       "      <th>weight</th>\n",
       "      <th>acceleration</th>\n",
       "      <th>model year</th>\n",
       "      <th>origin</th>\n",
       "      <th>horse_weight</th>\n",
       "    </tr>\n",
       "  </thead>\n",
       "  <tbody>\n",
       "    <tr>\n",
       "      <th>id</th>\n",
       "      <td>1.000000</td>\n",
       "      <td>-0.145499</td>\n",
       "      <td>-0.118054</td>\n",
       "      <td>0.124858</td>\n",
       "      <td>0.087414</td>\n",
       "      <td>0.135308</td>\n",
       "      <td>-0.150807</td>\n",
       "      <td>-0.138426</td>\n",
       "      <td>-0.135548</td>\n",
       "      <td>-0.132938</td>\n",
       "    </tr>\n",
       "    <tr>\n",
       "      <th>mpg</th>\n",
       "      <td>-0.145499</td>\n",
       "      <td>1.000000</td>\n",
       "      <td>0.708078</td>\n",
       "      <td>-0.603918</td>\n",
       "      <td>-0.524472</td>\n",
       "      <td>-0.803216</td>\n",
       "      <td>0.814468</td>\n",
       "      <td>0.706492</td>\n",
       "      <td>0.798784</td>\n",
       "      <td>0.772038</td>\n",
       "    </tr>\n",
       "    <tr>\n",
       "      <th>cylinders</th>\n",
       "      <td>-0.118054</td>\n",
       "      <td>0.708078</td>\n",
       "      <td>1.000000</td>\n",
       "      <td>-0.006163</td>\n",
       "      <td>0.076203</td>\n",
       "      <td>-0.325716</td>\n",
       "      <td>0.946852</td>\n",
       "      <td>0.474453</td>\n",
       "      <td>0.985029</td>\n",
       "      <td>0.991602</td>\n",
       "    </tr>\n",
       "    <tr>\n",
       "      <th>displacement</th>\n",
       "      <td>0.124858</td>\n",
       "      <td>-0.603918</td>\n",
       "      <td>-0.006163</td>\n",
       "      <td>1.000000</td>\n",
       "      <td>0.891385</td>\n",
       "      <td>0.889880</td>\n",
       "      <td>-0.253183</td>\n",
       "      <td>-0.349082</td>\n",
       "      <td>-0.168444</td>\n",
       "      <td>-0.122439</td>\n",
       "    </tr>\n",
       "    <tr>\n",
       "      <th>horsepower</th>\n",
       "      <td>0.087414</td>\n",
       "      <td>-0.524472</td>\n",
       "      <td>0.076203</td>\n",
       "      <td>0.891385</td>\n",
       "      <td>1.000000</td>\n",
       "      <td>0.800511</td>\n",
       "      <td>-0.195228</td>\n",
       "      <td>-0.348906</td>\n",
       "      <td>-0.063384</td>\n",
       "      <td>-0.014341</td>\n",
       "    </tr>\n",
       "    <tr>\n",
       "      <th>weight</th>\n",
       "      <td>0.135308</td>\n",
       "      <td>-0.803216</td>\n",
       "      <td>-0.325716</td>\n",
       "      <td>0.889880</td>\n",
       "      <td>0.800511</td>\n",
       "      <td>1.000000</td>\n",
       "      <td>-0.510551</td>\n",
       "      <td>-0.432352</td>\n",
       "      <td>-0.466005</td>\n",
       "      <td>-0.431901</td>\n",
       "    </tr>\n",
       "    <tr>\n",
       "      <th>acceleration</th>\n",
       "      <td>-0.150807</td>\n",
       "      <td>0.814468</td>\n",
       "      <td>0.946852</td>\n",
       "      <td>-0.253183</td>\n",
       "      <td>-0.195228</td>\n",
       "      <td>-0.510551</td>\n",
       "      <td>1.000000</td>\n",
       "      <td>0.537750</td>\n",
       "      <td>0.971740</td>\n",
       "      <td>0.963144</td>\n",
       "    </tr>\n",
       "    <tr>\n",
       "      <th>model year</th>\n",
       "      <td>-0.138426</td>\n",
       "      <td>0.706492</td>\n",
       "      <td>0.474453</td>\n",
       "      <td>-0.349082</td>\n",
       "      <td>-0.348906</td>\n",
       "      <td>-0.432352</td>\n",
       "      <td>0.537750</td>\n",
       "      <td>1.000000</td>\n",
       "      <td>0.518774</td>\n",
       "      <td>0.501314</td>\n",
       "    </tr>\n",
       "    <tr>\n",
       "      <th>origin</th>\n",
       "      <td>-0.135548</td>\n",
       "      <td>0.798784</td>\n",
       "      <td>0.985029</td>\n",
       "      <td>-0.168444</td>\n",
       "      <td>-0.063384</td>\n",
       "      <td>-0.466005</td>\n",
       "      <td>0.971740</td>\n",
       "      <td>0.518774</td>\n",
       "      <td>1.000000</td>\n",
       "      <td>0.997396</td>\n",
       "    </tr>\n",
       "    <tr>\n",
       "      <th>horse_weight</th>\n",
       "      <td>-0.132938</td>\n",
       "      <td>0.772038</td>\n",
       "      <td>0.991602</td>\n",
       "      <td>-0.122439</td>\n",
       "      <td>-0.014341</td>\n",
       "      <td>-0.431901</td>\n",
       "      <td>0.963144</td>\n",
       "      <td>0.501314</td>\n",
       "      <td>0.997396</td>\n",
       "      <td>1.000000</td>\n",
       "    </tr>\n",
       "  </tbody>\n",
       "</table>\n",
       "</div>"
      ],
      "text/plain": [
       "                    id       mpg  cylinders  displacement  horsepower  \\\n",
       "id            1.000000 -0.145499  -0.118054      0.124858    0.087414   \n",
       "mpg          -0.145499  1.000000   0.708078     -0.603918   -0.524472   \n",
       "cylinders    -0.118054  0.708078   1.000000     -0.006163    0.076203   \n",
       "displacement  0.124858 -0.603918  -0.006163      1.000000    0.891385   \n",
       "horsepower    0.087414 -0.524472   0.076203      0.891385    1.000000   \n",
       "weight        0.135308 -0.803216  -0.325716      0.889880    0.800511   \n",
       "acceleration -0.150807  0.814468   0.946852     -0.253183   -0.195228   \n",
       "model year   -0.138426  0.706492   0.474453     -0.349082   -0.348906   \n",
       "origin       -0.135548  0.798784   0.985029     -0.168444   -0.063384   \n",
       "horse_weight -0.132938  0.772038   0.991602     -0.122439   -0.014341   \n",
       "\n",
       "                weight  acceleration  model year    origin  horse_weight  \n",
       "id            0.135308     -0.150807   -0.138426 -0.135548     -0.132938  \n",
       "mpg          -0.803216      0.814468    0.706492  0.798784      0.772038  \n",
       "cylinders    -0.325716      0.946852    0.474453  0.985029      0.991602  \n",
       "displacement  0.889880     -0.253183   -0.349082 -0.168444     -0.122439  \n",
       "horsepower    0.800511     -0.195228   -0.348906 -0.063384     -0.014341  \n",
       "weight        1.000000     -0.510551   -0.432352 -0.466005     -0.431901  \n",
       "acceleration -0.510551      1.000000    0.537750  0.971740      0.963144  \n",
       "model year   -0.432352      0.537750    1.000000  0.518774      0.501314  \n",
       "origin       -0.466005      0.971740    0.518774  1.000000      0.997396  \n",
       "horse_weight -0.431901      0.963144    0.501314  0.997396      1.000000  "
      ]
     },
     "execution_count": 35,
     "metadata": {},
     "output_type": "execute_result"
    }
   ],
   "source": [
    "train.corr()"
   ]
  },
  {
   "cell_type": "code",
   "execution_count": null,
   "id": "ae6be822",
   "metadata": {},
   "outputs": [],
   "source": []
  },
  {
   "cell_type": "markdown",
   "id": "354007e7",
   "metadata": {},
   "source": [
    "### モデルの準備"
   ]
  },
  {
   "cell_type": "code",
   "execution_count": 36,
   "id": "6a2ef6de",
   "metadata": {},
   "outputs": [],
   "source": [
    "import xgboost as xgb\n",
    "from sklearn.model_selection import GridSearchCV"
   ]
  },
  {
   "cell_type": "code",
   "execution_count": 37,
   "id": "f8bc5080",
   "metadata": {},
   "outputs": [],
   "source": [
    "model = xgb.XGBRegressor()"
   ]
  },
  {
   "cell_type": "code",
   "execution_count": 38,
   "id": "0ef2e57e",
   "metadata": {},
   "outputs": [],
   "source": [
    "train = train.drop(['id', 'car name'], axis = 1)\n",
    "test = test.drop(['id', 'car name'], axis = 1)"
   ]
  },
  {
   "cell_type": "code",
   "execution_count": 39,
   "id": "a290b641",
   "metadata": {},
   "outputs": [],
   "source": [
    "trainX = train.copy()\n",
    "y = train['mpg']\n",
    "trainX = train.drop('mpg', axis=1)\n",
    "testX = test.copy()"
   ]
  },
  {
   "cell_type": "markdown",
   "id": "21332167",
   "metadata": {},
   "source": [
    "### パラメータのサーチ"
   ]
  },
  {
   "cell_type": "code",
   "execution_count": 40,
   "id": "570842c3",
   "metadata": {},
   "outputs": [],
   "source": [
    "gcv = GridSearchCV(model, {'max_depth': [2,4,6], 'n_estimators': [50,100,200]}, verbose=1, n_jobs=-1, return_train_score=True)"
   ]
  },
  {
   "cell_type": "code",
   "execution_count": 41,
   "id": "a95b55ab",
   "metadata": {},
   "outputs": [
    {
     "name": "stdout",
     "output_type": "stream",
     "text": [
      "Fitting 5 folds for each of 9 candidates, totalling 45 fits\n"
     ]
    },
    {
     "data": {
      "text/plain": [
       "GridSearchCV(estimator=XGBRegressor(base_score=None, booster=None,\n",
       "                                    colsample_bylevel=None,\n",
       "                                    colsample_bynode=None,\n",
       "                                    colsample_bytree=None, gamma=None,\n",
       "                                    gpu_id=None, importance_type='gain',\n",
       "                                    interaction_constraints=None,\n",
       "                                    learning_rate=None, max_delta_step=None,\n",
       "                                    max_depth=None, min_child_weight=None,\n",
       "                                    missing=nan, monotone_constraints=None,\n",
       "                                    n_estimators=100, n_jobs=None,\n",
       "                                    num_parallel_tree=None, random_state=None,\n",
       "                                    reg_alpha=None, reg_lambda=None,\n",
       "                                    scale_pos_weight=None, subsample=None,\n",
       "                                    tree_method=None, validate_parameters=None,\n",
       "                                    verbosity=None),\n",
       "             n_jobs=-1,\n",
       "             param_grid={'max_depth': [2, 4, 6],\n",
       "                         'n_estimators': [50, 100, 200]},\n",
       "             return_train_score=True, verbose=1)"
      ]
     },
     "execution_count": 41,
     "metadata": {},
     "output_type": "execute_result"
    }
   ],
   "source": [
    "gcv.fit(trainX, y)"
   ]
  },
  {
   "cell_type": "code",
   "execution_count": 42,
   "id": "f64418da",
   "metadata": {
    "scrolled": true
   },
   "outputs": [
    {
     "data": {
      "text/plain": [
       "{'max_depth': 6, 'n_estimators': 50}"
      ]
     },
     "execution_count": 42,
     "metadata": {},
     "output_type": "execute_result"
    }
   ],
   "source": [
    "gcv.best_params_"
   ]
  },
  {
   "cell_type": "markdown",
   "id": "469ace55",
   "metadata": {},
   "source": [
    "### ベストパラメータで改めてモデル作成"
   ]
  },
  {
   "cell_type": "markdown",
   "id": "df8c3282",
   "metadata": {},
   "source": [
    "### 訓練データで精度チェック"
   ]
  },
  {
   "cell_type": "code",
   "execution_count": 43,
   "id": "6449d19e",
   "metadata": {},
   "outputs": [],
   "source": [
    "pred_train = gcv.predict(trainX)"
   ]
  },
  {
   "cell_type": "code",
   "execution_count": 45,
   "id": "0dd75da4",
   "metadata": {
    "scrolled": true
   },
   "outputs": [
    {
     "data": {
      "text/plain": [
       "<AxesSubplot:>"
      ]
     },
     "execution_count": 45,
     "metadata": {},
     "output_type": "execute_result"
    },
    {
     "data": {
      "image/png": "[encoded data removed]",
      "text/plain": [
       "<Figure size 864x360 with 1 Axes>"
      ]
     },
     "metadata": {
      "needs_background": "light"
     },
     "output_type": "display_data"
    }
   ],
   "source": [
    "train_value = y.values\n",
    "_df = pd.DataFrame({'actual':train_value,'pred':pred_train})\n",
    "_df.plot(figsize=(12,5))"
   ]
  },
  {
   "cell_type": "code",
   "execution_count": 46,
   "id": "7203bb82",
   "metadata": {},
   "outputs": [
    {
     "data": {
      "text/plain": [
       "array([29. , 31.9, 19. , 28. , 37.7, 27. , 16. , 11. , 26. , 18.2, 16.5,\n",
       "       30.9, 27. , 14. , 18. , 26. , 32.1, 24.5, 28.1, 32.7, 19. , 15. ,\n",
       "       26. , 17. , 92. , 19.8, 13. , 36. , 17. , 38. , 31.5, 16. , 31.5,\n",
       "       39.1, 24. , 32. , 15. , 33.8, 31.3, 23. , 43.1, 27.2, 22. , 19. ,\n",
       "       22. , 23. , 13. , 20.6, 35.1, 44.6, 25. , 16. , 31. , 31. , 25. ,\n",
       "       27.2, 13. , 30. ,  9. , 34. , 25. , 21.5, 38.1, 14. , 23. , 34.3,\n",
       "       22. , 15.5, 16. , 14. , 26. , 28. , 32.9, 30. , 25. , 15. , 23. ,\n",
       "       14. , 24.2, 19. , 27. , 15. , 22. , 18. , 15. , 39. , 26. , 34. ,\n",
       "       23. , 31.8, 29. , 26.4, 25.5, 20.8, 34.4, 16.5, 24. , 30.5, 34.5,\n",
       "       14. , 37. , 29.8, 26. , 20. , 18.1, 31. , 15.5, 19. , 18. , 28.4,\n",
       "       26. , 20.6, 20. , 92. , 22. , 30. , 17.5, 33.5, 12. , 24. , 13. ,\n",
       "       21. , 33. , 41.5, 23. , 16. , 18. , 35. , 17. , 23.5, 18.1, 31. ,\n",
       "       15. , 17.6, 30.5, 36.4, 20. , 25.8, 19.1, 20. , 34.7, 10. , 24. ,\n",
       "       34.2, 26. , 92. , 28. , 21. , 17.5, 22. , 18. , 14. , 25.5, 13. ,\n",
       "       28. , 31. , 22.4, 23.9, 32. , 18. , 32. , 32. , 20. , 12. , 18.6,\n",
       "       13. , 26.5, 25. , 28. , 29.5, 14. , 21.5, 32.8, 33.7, 15. , 92. ,\n",
       "       29.8, 23.9, 19.4, 25.1, 35. , 21.5, 17.5, 17.7, 11. , 18. , 27. ,\n",
       "       15. , 24. , 36. , 27.4, 18. , 13. , 19. , 40.8, 20.2, 16. , 43.4,\n",
       "       26. ])"
      ]
     },
     "execution_count": 46,
     "metadata": {},
     "output_type": "execute_result"
    }
   ],
   "source": [
    "train_value"
   ]
  },
  {
   "cell_type": "code",
   "execution_count": 47,
   "id": "88ec6e84",
   "metadata": {},
   "outputs": [
    {
     "data": {
      "text/plain": [
       "array([29.05239  , 31.934063 , 19.13587  , 28.011375 , 37.68087  ,\n",
       "       27.122673 , 15.939069 , 11.110921 , 25.983875 , 18.194714 ,\n",
       "       16.510681 , 30.95588  , 27.031574 , 13.983873 , 18.088507 ,\n",
       "       25.995844 , 32.140556 , 24.558876 , 28.118313 , 32.670135 ,\n",
       "       18.930079 , 15.0090685, 25.930092 , 17.014755 , 92.00113  ,\n",
       "       19.815765 , 12.954742 , 35.82563  , 17.017466 , 37.8962   ,\n",
       "       31.375114 , 15.980515 , 31.584242 , 39.082485 , 23.893826 ,\n",
       "       31.972254 , 15.065923 , 33.857376 , 31.426506 , 23.02262  ,\n",
       "       43.006287 , 27.371769 , 21.980421 , 18.978445 , 22.104275 ,\n",
       "       23.026766 , 13.031075 , 20.599634 , 35.176006 , 44.543358 ,\n",
       "       25.081745 , 16.102713 , 30.993126 , 31.090538 , 24.990705 ,\n",
       "       27.165926 , 13.004689 , 29.849867 ,  9.038427 , 33.959652 ,\n",
       "       24.869894 , 21.659763 , 38.09175  , 13.990921 , 22.939066 ,\n",
       "       34.30508  , 21.981302 , 15.478681 , 15.984601 , 14.011651 ,\n",
       "       25.872515 , 28.0129   , 32.779438 , 30.016582 , 25.035107 ,\n",
       "       14.932176 , 22.939566 , 13.936928 , 24.22476  , 19.066122 ,\n",
       "       27.013887 , 14.915026 , 21.855812 , 17.951065 , 15.003613 ,\n",
       "       38.90337  , 26.007336 , 33.976517 , 23.0878   , 32.01619  ,\n",
       "       29.024626 , 26.397678 , 25.495808 , 20.79724  , 34.40367  ,\n",
       "       16.537664 , 23.945564 , 30.418877 , 34.356216 , 14.035064 ,\n",
       "       36.999428 , 29.856825 , 25.972853 , 20.02423  , 18.112572 ,\n",
       "       30.986076 , 15.687777 , 19.004381 , 18.1137   , 28.054642 ,\n",
       "       26.035858 , 20.609192 , 19.955126 , 92.00113  , 22.060072 ,\n",
       "       30.00144  , 17.483313 , 33.45266  , 12.034518 , 24.231567 ,\n",
       "       13.094843 , 20.957598 , 33.12341  , 41.48063  , 22.999096 ,\n",
       "       15.86215  , 18.105362 , 34.78668  , 16.990625 , 23.487038 ,\n",
       "       18.126753 , 30.928673 , 14.997255 , 17.649805 , 30.545097 ,\n",
       "       36.371315 , 19.988144 , 26.02718  , 19.186417 , 20.059858 ,\n",
       "       34.656113 ,  9.990643 , 24.02713  , 34.23965  , 25.99412  ,\n",
       "       92.00113  , 28.057232 , 20.85887  , 17.352636 , 21.896017 ,\n",
       "       18.020418 , 14.020839 , 25.297426 , 12.978079 , 27.962189 ,\n",
       "       31.040281 , 22.3307   , 23.936333 , 31.995422 , 18.026014 ,\n",
       "       32.058178 , 31.99997  , 19.950119 , 12.036748 , 18.611689 ,\n",
       "       13.19664  , 26.472126 , 25.0277   , 27.841452 , 29.596916 ,\n",
       "       14.007451 , 21.511168 , 32.822666 , 33.622868 , 14.983917 ,\n",
       "       92.00113  , 29.707176 , 23.879616 , 19.273727 , 25.287355 ,\n",
       "       35.000805 , 21.442915 , 17.468988 , 17.717255 , 11.02737  ,\n",
       "       17.92717  , 27.012798 , 14.858323 , 24.06386  , 35.961384 ,\n",
       "       27.506084 , 18.000568 , 13.025786 , 19.019358 , 40.646263 ,\n",
       "       20.185036 , 16.013563 , 43.42447  , 26.08722  ], dtype=float32)"
      ]
     },
     "execution_count": 47,
     "metadata": {},
     "output_type": "execute_result"
    }
   ],
   "source": [
    "pred_train"
   ]
  },
  {
   "cell_type": "markdown",
   "id": "9731daaf",
   "metadata": {},
   "source": [
    "### テストデータで予測"
   ]
  },
  {
   "cell_type": "code",
   "execution_count": 48,
   "id": "c68d75cb",
   "metadata": {},
   "outputs": [],
   "source": [
    "pred_test =  gcv.predict(testX)"
   ]
  },
  {
   "cell_type": "code",
   "execution_count": 49,
   "id": "5f3f8633",
   "metadata": {},
   "outputs": [
    {
     "data": {
      "text/plain": [
       "array([25.265945 , 18.638067 , 37.171364 , 18.922977 , 27.556877 ,\n",
       "       23.916826 , 13.395185 , 20.095346 , 24.081167 , 20.939972 ,\n",
       "       13.177593 , 27.533304 , 13.428914 , 33.19555  , 33.385418 ,\n",
       "       15.426258 , 22.001719 , 27.129383 , 14.493505 , 31.09746  ,\n",
       "       26.610743 , 39.82542  , 16.070383 , 12.157365 , 14.083621 ,\n",
       "       13.470019 , 10.751539 , 18.324545 , 28.216032 , 28.835459 ,\n",
       "       34.104733 , 17.076672 , 37.677418 , 12.219443 , 17.212679 ,\n",
       "       30.21109  , 33.238884 , 17.983356 , 28.636276 , 40.755096 ,\n",
       "       12.7072935, 29.096828 , 23.30457  , 29.497448 , 20.619856 ,\n",
       "       35.945503 , 34.214    , 17.408867 , 25.085379 , 23.166775 ,\n",
       "       24.56616  , 25.581312 , 32.551517 , 18.378704 , 27.538689 ,\n",
       "       13.827934 , 14.291791 , 31.843006 , 14.050541 , 15.854032 ,\n",
       "       14.447309 , 26.98759  , 30.916214 , 17.496672 , 26.30091  ,\n",
       "       12.963869 , 35.26227  , 28.088345 , 19.586704 , 14.6591835,\n",
       "       91.91272  , 33.149693 , 32.790268 , 12.368199 , 32.082592 ,\n",
       "       26.548555 , 16.636108 , 15.0551815, 14.277974 , 19.03289  ,\n",
       "       31.213089 , 31.025995 , 24.667448 , 23.373154 , 22.689075 ,\n",
       "       37.749573 , 20.037678 , 16.643665 , 14.434173 , 15.294154 ,\n",
       "       22.603409 , 28.6187   , 13.152801 , 22.780537 , 17.515175 ,\n",
       "       13.663451 , 33.963017 , 25.424784 , 12.452052 , 24.859138 ,\n",
       "       30.445515 , 26.055986 , 19.161999 , 16.85071  , 25.090431 ,\n",
       "       31.043749 , 19.774437 , 15.292497 , 17.59796  , 17.591835 ,\n",
       "       14.060251 , 23.36952  , 91.91272  , 23.434229 , 12.964863 ,\n",
       "       28.42301  , 14.748105 , 15.192117 , 18.514711 , 19.353685 ,\n",
       "       35.83823  , 14.884577 , 16.641794 , 20.198454 , 15.754629 ,\n",
       "       19.071257 , 23.070286 , 19.392923 , 14.910776 , 34.310856 ,\n",
       "       32.801956 , 32.79282  , 22.08826  , 18.879606 , 13.906729 ,\n",
       "       21.674786 , 20.61555  , 35.409878 , 35.38069  , 26.590595 ,\n",
       "       27.357512 , 11.6996   , 30.133953 , 15.043308 , 12.830414 ,\n",
       "       27.050303 , 19.23243  , 31.056759 , 26.678343 , 17.798494 ,\n",
       "       19.48398  , 15.591086 , 22.735449 , 22.226248 , 20.993036 ,\n",
       "       29.192316 , 13.604173 , 30.9717   , 15.266019 , 12.455199 ,\n",
       "       37.17713  , 18.130043 , 31.23829  , 25.943739 , 12.219443 ,\n",
       "       18.220541 , 19.694305 , 23.191847 , 22.36177  , 13.176417 ,\n",
       "       12.8514   , 40.482502 , 18.710035 , 15.552549 , 22.77595  ,\n",
       "       26.181915 , 18.000095 , 26.676603 , 33.370842 , 13.504348 ,\n",
       "       19.600838 , 20.50272  , 30.857145 , 13.65729  , 23.761135 ,\n",
       "       13.807256 , 33.435608 , 27.486242 , 23.765945 , 21.687319 ,\n",
       "       38.950897 , 26.583143 , 15.576323 , 23.740831 , 23.628119 ,\n",
       "       32.581226 , 30.75755  , 14.999606 , 30.658619 ], dtype=float32)"
      ]
     },
     "execution_count": 49,
     "metadata": {},
     "output_type": "execute_result"
    }
   ],
   "source": [
    "pred_test"
   ]
  },
  {
   "cell_type": "code",
   "execution_count": 50,
   "id": "2d20629a",
   "metadata": {},
   "outputs": [],
   "source": [
    "sample[1] = pred_test"
   ]
  },
  {
   "cell_type": "code",
   "execution_count": 51,
   "id": "a868e656",
   "metadata": {},
   "outputs": [],
   "source": [
    "sample.to_csv('submit1.csv', header=None, index=None)"
   ]
  },
  {
   "cell_type": "code",
   "execution_count": null,
   "id": "048798f1",
   "metadata": {},
   "outputs": [],
   "source": []
  }
 ],
 "metadata": {
  "kernelspec": {
   "display_name": "Python 3 (ipykernel)",
   "language": "python",
   "name": "python3"
  },
  "language_info": {
   "codemirror_mode": {
    "name": "ipython",
    "version": 3
   },
   "file_extension": ".py",
   "mimetype": "text/x-python",
   "name": "python",
   "nbconvert_exporter": "python",
   "pygments_lexer": "ipython3",
   "version": "3.9.6"
  }
 },
 "nbformat": 4,
 "nbformat_minor": 5
}
