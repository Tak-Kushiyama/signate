{
 "cells": [
  {
   "cell_type": "markdown",
   "id": "fd47278f",
   "metadata": {},
   "source": [
    "## タイタニック生存者予測\n",
    " - Result : 0.8510698"
   ]
  },
  {
   "cell_type": "code",
   "execution_count": 1,
   "id": "40ad4321",
   "metadata": {},
   "outputs": [],
   "source": [
    "import pandas as pd\n",
    "import numpy as np\n",
    "from matplotlib import pyplot as plt\n",
    "%matplotlib inline\n",
    "\n",
    "from sklearn.tree import DecisionTreeClassifier as DT\n",
    "from sklearn.model_selection import cross_validate\n",
    "from sklearn.model_selection import GridSearchCV"
   ]
  },
  {
   "cell_type": "code",
   "execution_count": 8,
   "id": "ebbc4647",
   "metadata": {},
   "outputs": [],
   "source": [
    "test = pd.read_csv('test.tsv', delimiter='\\t')\n",
    "train = pd.read_csv('train.tsv', delimiter='\\t')\n",
    "sample = pd.read_csv('sample_submit.tsv', header=None, delimiter='\\t')"
   ]
  },
  {
   "cell_type": "code",
   "execution_count": 9,
   "id": "81150a04",
   "metadata": {},
   "outputs": [
    {
     "data": {
      "text/html": [
       "<div>\n",
       "<style scoped>\n",
       "    .dataframe tbody tr th:only-of-type {\n",
       "        vertical-align: middle;\n",
       "    }\n",
       "\n",
       "    .dataframe tbody tr th {\n",
       "        vertical-align: top;\n",
       "    }\n",
       "\n",
       "    .dataframe thead th {\n",
       "        text-align: right;\n",
       "    }\n",
       "</style>\n",
       "<table border=\"1\" class=\"dataframe\">\n",
       "  <thead>\n",
       "    <tr style=\"text-align: right;\">\n",
       "      <th></th>\n",
       "      <th>id</th>\n",
       "      <th>survived</th>\n",
       "      <th>pclass</th>\n",
       "      <th>sex</th>\n",
       "      <th>age</th>\n",
       "      <th>sibsp</th>\n",
       "      <th>parch</th>\n",
       "      <th>fare</th>\n",
       "      <th>embarked</th>\n",
       "    </tr>\n",
       "  </thead>\n",
       "  <tbody>\n",
       "    <tr>\n",
       "      <th>0</th>\n",
       "      <td>3</td>\n",
       "      <td>1</td>\n",
       "      <td>1</td>\n",
       "      <td>female</td>\n",
       "      <td>35.0</td>\n",
       "      <td>1</td>\n",
       "      <td>0</td>\n",
       "      <td>53.1000</td>\n",
       "      <td>S</td>\n",
       "    </tr>\n",
       "    <tr>\n",
       "      <th>1</th>\n",
       "      <td>4</td>\n",
       "      <td>0</td>\n",
       "      <td>3</td>\n",
       "      <td>male</td>\n",
       "      <td>35.0</td>\n",
       "      <td>0</td>\n",
       "      <td>0</td>\n",
       "      <td>8.0500</td>\n",
       "      <td>S</td>\n",
       "    </tr>\n",
       "    <tr>\n",
       "      <th>2</th>\n",
       "      <td>7</td>\n",
       "      <td>0</td>\n",
       "      <td>3</td>\n",
       "      <td>male</td>\n",
       "      <td>2.0</td>\n",
       "      <td>3</td>\n",
       "      <td>1</td>\n",
       "      <td>21.0750</td>\n",
       "      <td>S</td>\n",
       "    </tr>\n",
       "    <tr>\n",
       "      <th>3</th>\n",
       "      <td>9</td>\n",
       "      <td>1</td>\n",
       "      <td>2</td>\n",
       "      <td>female</td>\n",
       "      <td>14.0</td>\n",
       "      <td>1</td>\n",
       "      <td>0</td>\n",
       "      <td>30.0708</td>\n",
       "      <td>C</td>\n",
       "    </tr>\n",
       "    <tr>\n",
       "      <th>4</th>\n",
       "      <td>11</td>\n",
       "      <td>1</td>\n",
       "      <td>1</td>\n",
       "      <td>female</td>\n",
       "      <td>58.0</td>\n",
       "      <td>0</td>\n",
       "      <td>0</td>\n",
       "      <td>26.5500</td>\n",
       "      <td>S</td>\n",
       "    </tr>\n",
       "  </tbody>\n",
       "</table>\n",
       "</div>"
      ],
      "text/plain": [
       "   id  survived  pclass     sex   age  sibsp  parch     fare embarked\n",
       "0   3         1       1  female  35.0      1      0  53.1000        S\n",
       "1   4         0       3    male  35.0      0      0   8.0500        S\n",
       "2   7         0       3    male   2.0      3      1  21.0750        S\n",
       "3   9         1       2  female  14.0      1      0  30.0708        C\n",
       "4  11         1       1  female  58.0      0      0  26.5500        S"
      ]
     },
     "execution_count": 9,
     "metadata": {},
     "output_type": "execute_result"
    }
   ],
   "source": [
    "train.head(5)"
   ]
  },
  {
   "cell_type": "code",
   "execution_count": 10,
   "id": "e9a31df6",
   "metadata": {},
   "outputs": [
    {
     "data": {
      "text/html": [
       "<div>\n",
       "<style scoped>\n",
       "    .dataframe tbody tr th:only-of-type {\n",
       "        vertical-align: middle;\n",
       "    }\n",
       "\n",
       "    .dataframe tbody tr th {\n",
       "        vertical-align: top;\n",
       "    }\n",
       "\n",
       "    .dataframe thead th {\n",
       "        text-align: right;\n",
       "    }\n",
       "</style>\n",
       "<table border=\"1\" class=\"dataframe\">\n",
       "  <thead>\n",
       "    <tr style=\"text-align: right;\">\n",
       "      <th></th>\n",
       "      <th>id</th>\n",
       "      <th>pclass</th>\n",
       "      <th>sex</th>\n",
       "      <th>age</th>\n",
       "      <th>sibsp</th>\n",
       "      <th>parch</th>\n",
       "      <th>fare</th>\n",
       "      <th>embarked</th>\n",
       "    </tr>\n",
       "  </thead>\n",
       "  <tbody>\n",
       "    <tr>\n",
       "      <th>0</th>\n",
       "      <td>0</td>\n",
       "      <td>3</td>\n",
       "      <td>male</td>\n",
       "      <td>22.0</td>\n",
       "      <td>1</td>\n",
       "      <td>0</td>\n",
       "      <td>7.2500</td>\n",
       "      <td>S</td>\n",
       "    </tr>\n",
       "    <tr>\n",
       "      <th>1</th>\n",
       "      <td>1</td>\n",
       "      <td>1</td>\n",
       "      <td>female</td>\n",
       "      <td>38.0</td>\n",
       "      <td>1</td>\n",
       "      <td>0</td>\n",
       "      <td>71.2833</td>\n",
       "      <td>C</td>\n",
       "    </tr>\n",
       "    <tr>\n",
       "      <th>2</th>\n",
       "      <td>2</td>\n",
       "      <td>3</td>\n",
       "      <td>female</td>\n",
       "      <td>26.0</td>\n",
       "      <td>0</td>\n",
       "      <td>0</td>\n",
       "      <td>7.9250</td>\n",
       "      <td>S</td>\n",
       "    </tr>\n",
       "    <tr>\n",
       "      <th>3</th>\n",
       "      <td>5</td>\n",
       "      <td>3</td>\n",
       "      <td>male</td>\n",
       "      <td>NaN</td>\n",
       "      <td>0</td>\n",
       "      <td>0</td>\n",
       "      <td>8.4583</td>\n",
       "      <td>Q</td>\n",
       "    </tr>\n",
       "    <tr>\n",
       "      <th>4</th>\n",
       "      <td>6</td>\n",
       "      <td>1</td>\n",
       "      <td>male</td>\n",
       "      <td>54.0</td>\n",
       "      <td>0</td>\n",
       "      <td>0</td>\n",
       "      <td>51.8625</td>\n",
       "      <td>S</td>\n",
       "    </tr>\n",
       "  </tbody>\n",
       "</table>\n",
       "</div>"
      ],
      "text/plain": [
       "   id  pclass     sex   age  sibsp  parch     fare embarked\n",
       "0   0       3    male  22.0      1      0   7.2500        S\n",
       "1   1       1  female  38.0      1      0  71.2833        C\n",
       "2   2       3  female  26.0      0      0   7.9250        S\n",
       "3   5       3    male   NaN      0      0   8.4583        Q\n",
       "4   6       1    male  54.0      0      0  51.8625        S"
      ]
     },
     "execution_count": 10,
     "metadata": {},
     "output_type": "execute_result"
    }
   ],
   "source": [
    "test.head(5)"
   ]
  },
  {
   "cell_type": "code",
   "execution_count": 11,
   "id": "f519b04b",
   "metadata": {},
   "outputs": [
    {
     "data": {
      "text/html": [
       "<div>\n",
       "<style scoped>\n",
       "    .dataframe tbody tr th:only-of-type {\n",
       "        vertical-align: middle;\n",
       "    }\n",
       "\n",
       "    .dataframe tbody tr th {\n",
       "        vertical-align: top;\n",
       "    }\n",
       "\n",
       "    .dataframe thead th {\n",
       "        text-align: right;\n",
       "    }\n",
       "</style>\n",
       "<table border=\"1\" class=\"dataframe\">\n",
       "  <thead>\n",
       "    <tr style=\"text-align: right;\">\n",
       "      <th></th>\n",
       "      <th>0</th>\n",
       "      <th>1</th>\n",
       "    </tr>\n",
       "  </thead>\n",
       "  <tbody>\n",
       "    <tr>\n",
       "      <th>0</th>\n",
       "      <td>0</td>\n",
       "      <td>0</td>\n",
       "    </tr>\n",
       "    <tr>\n",
       "      <th>1</th>\n",
       "      <td>1</td>\n",
       "      <td>1</td>\n",
       "    </tr>\n",
       "    <tr>\n",
       "      <th>2</th>\n",
       "      <td>2</td>\n",
       "      <td>0</td>\n",
       "    </tr>\n",
       "    <tr>\n",
       "      <th>3</th>\n",
       "      <td>5</td>\n",
       "      <td>1</td>\n",
       "    </tr>\n",
       "    <tr>\n",
       "      <th>4</th>\n",
       "      <td>6</td>\n",
       "      <td>1</td>\n",
       "    </tr>\n",
       "  </tbody>\n",
       "</table>\n",
       "</div>"
      ],
      "text/plain": [
       "   0  1\n",
       "0  0  0\n",
       "1  1  1\n",
       "2  2  0\n",
       "3  5  1\n",
       "4  6  1"
      ]
     },
     "execution_count": 11,
     "metadata": {},
     "output_type": "execute_result"
    }
   ],
   "source": [
    "sample.head(5)"
   ]
  },
  {
   "cell_type": "code",
   "execution_count": 14,
   "id": "562591f5",
   "metadata": {},
   "outputs": [
    {
     "data": {
      "text/plain": [
       "id           0\n",
       "survived     0\n",
       "pclass       0\n",
       "sex          0\n",
       "age         85\n",
       "sibsp        0\n",
       "parch        0\n",
       "fare         0\n",
       "embarked     2\n",
       "dtype: int64"
      ]
     },
     "execution_count": 14,
     "metadata": {},
     "output_type": "execute_result"
    }
   ],
   "source": [
    "train.isnull().sum()"
   ]
  },
  {
   "cell_type": "code",
   "execution_count": 16,
   "id": "ba15cca4",
   "metadata": {},
   "outputs": [
    {
     "data": {
      "text/plain": [
       "id           0\n",
       "pclass       0\n",
       "sex          0\n",
       "age         92\n",
       "sibsp        0\n",
       "parch        0\n",
       "fare         0\n",
       "embarked     0\n",
       "dtype: int64"
      ]
     },
     "execution_count": 16,
     "metadata": {},
     "output_type": "execute_result"
    }
   ],
   "source": [
    "test.isnull().sum()"
   ]
  },
  {
   "cell_type": "code",
   "execution_count": 26,
   "id": "f3450a5e",
   "metadata": {},
   "outputs": [
    {
     "data": {
      "text/plain": [
       "28.0"
      ]
     },
     "execution_count": 26,
     "metadata": {},
     "output_type": "execute_result"
    }
   ],
   "source": [
    "train['age'].median()"
   ]
  },
  {
   "cell_type": "code",
   "execution_count": 22,
   "id": "063c1b9f",
   "metadata": {},
   "outputs": [
    {
     "data": {
      "text/plain": [
       "<AxesSubplot:>"
      ]
     },
     "execution_count": 22,
     "metadata": {},
     "output_type": "execute_result"
    },
    {
     "data": {
      "image/png": "[encoded data removed]",
      "text/plain": [
       "<Figure size 432x288 with 1 Axes>"
      ]
     },
     "metadata": {
      "needs_background": "light"
     },
     "output_type": "display_data"
    }
   ],
   "source": [
    "plt.axvline(x=train['age'].median(), color='red')\n",
    "train['age'].hist()"
   ]
  },
  {
   "cell_type": "code",
   "execution_count": 35,
   "id": "e2d96667",
   "metadata": {},
   "outputs": [],
   "source": [
    "age_median = train['age'].median()\n",
    "train['age'].fillna(age_median, inplace=True)"
   ]
  },
  {
   "cell_type": "code",
   "execution_count": 36,
   "id": "726cda20",
   "metadata": {},
   "outputs": [
    {
     "data": {
      "text/plain": [
       "id          0\n",
       "survived    0\n",
       "pclass      0\n",
       "sex         0\n",
       "age         0\n",
       "sibsp       0\n",
       "parch       0\n",
       "fare        0\n",
       "embarked    2\n",
       "dtype: int64"
      ]
     },
     "execution_count": 36,
     "metadata": {},
     "output_type": "execute_result"
    }
   ],
   "source": [
    "train.isnull().sum()"
   ]
  },
  {
   "cell_type": "code",
   "execution_count": 37,
   "id": "732413d0",
   "metadata": {},
   "outputs": [],
   "source": [
    "test['age'].fillna(test['age'].median(), inplace=True)"
   ]
  },
  {
   "cell_type": "code",
   "execution_count": 38,
   "id": "803e0f14",
   "metadata": {},
   "outputs": [
    {
     "data": {
      "text/plain": [
       "id          0\n",
       "pclass      0\n",
       "sex         0\n",
       "age         0\n",
       "sibsp       0\n",
       "parch       0\n",
       "fare        0\n",
       "embarked    0\n",
       "dtype: int64"
      ]
     },
     "execution_count": 38,
     "metadata": {},
     "output_type": "execute_result"
    }
   ],
   "source": [
    "test.isnull().sum()"
   ]
  },
  {
   "cell_type": "code",
   "execution_count": 42,
   "id": "b0f48929",
   "metadata": {},
   "outputs": [
    {
     "data": {
      "text/plain": [
       "S    325\n",
       "C     79\n",
       "Q     39\n",
       "Name: embarked, dtype: int64"
      ]
     },
     "execution_count": 42,
     "metadata": {},
     "output_type": "execute_result"
    }
   ],
   "source": [
    "train['embarked'].value_counts()"
   ]
  },
  {
   "cell_type": "code",
   "execution_count": 43,
   "id": "606f7b1c",
   "metadata": {},
   "outputs": [],
   "source": [
    "train['embarked'].fillna('N', inplace=True)"
   ]
  },
  {
   "cell_type": "code",
   "execution_count": 44,
   "id": "56132dc3",
   "metadata": {},
   "outputs": [
    {
     "data": {
      "text/plain": [
       "S    325\n",
       "C     79\n",
       "Q     39\n",
       "N      2\n",
       "Name: embarked, dtype: int64"
      ]
     },
     "execution_count": 44,
     "metadata": {},
     "output_type": "execute_result"
    }
   ],
   "source": [
    "train['embarked'].value_counts()"
   ]
  },
  {
   "cell_type": "code",
   "execution_count": 45,
   "id": "920e7fc9",
   "metadata": {},
   "outputs": [
    {
     "data": {
      "text/plain": [
       "0"
      ]
     },
     "execution_count": 45,
     "metadata": {},
     "output_type": "execute_result"
    }
   ],
   "source": [
    "train['embarked'].isnull().sum()"
   ]
  },
  {
   "cell_type": "code",
   "execution_count": 50,
   "id": "4c1851a5",
   "metadata": {},
   "outputs": [],
   "source": [
    "train = pd.get_dummies(train)"
   ]
  },
  {
   "cell_type": "code",
   "execution_count": 51,
   "id": "7b31170f",
   "metadata": {},
   "outputs": [],
   "source": [
    "test = pd.get_dummies(test)"
   ]
  },
  {
   "cell_type": "code",
   "execution_count": 52,
   "id": "f488c2e3",
   "metadata": {},
   "outputs": [
    {
     "data": {
      "text/html": [
       "<div>\n",
       "<style scoped>\n",
       "    .dataframe tbody tr th:only-of-type {\n",
       "        vertical-align: middle;\n",
       "    }\n",
       "\n",
       "    .dataframe tbody tr th {\n",
       "        vertical-align: top;\n",
       "    }\n",
       "\n",
       "    .dataframe thead th {\n",
       "        text-align: right;\n",
       "    }\n",
       "</style>\n",
       "<table border=\"1\" class=\"dataframe\">\n",
       "  <thead>\n",
       "    <tr style=\"text-align: right;\">\n",
       "      <th></th>\n",
       "      <th>id</th>\n",
       "      <th>survived</th>\n",
       "      <th>pclass</th>\n",
       "      <th>age</th>\n",
       "      <th>sibsp</th>\n",
       "      <th>parch</th>\n",
       "      <th>fare</th>\n",
       "      <th>sex_female</th>\n",
       "      <th>sex_male</th>\n",
       "      <th>embarked_C</th>\n",
       "      <th>embarked_N</th>\n",
       "      <th>embarked_Q</th>\n",
       "      <th>embarked_S</th>\n",
       "    </tr>\n",
       "  </thead>\n",
       "  <tbody>\n",
       "  </tbody>\n",
       "</table>\n",
       "</div>"
      ],
      "text/plain": [
       "Empty DataFrame\n",
       "Columns: [id, survived, pclass, age, sibsp, parch, fare, sex_female, sex_male, embarked_C, embarked_N, embarked_Q, embarked_S]\n",
       "Index: []"
      ]
     },
     "execution_count": 52,
     "metadata": {},
     "output_type": "execute_result"
    }
   ],
   "source": [
    "train.head(0)"
   ]
  },
  {
   "cell_type": "code",
   "execution_count": 53,
   "id": "14b892e2",
   "metadata": {},
   "outputs": [
    {
     "data": {
      "text/html": [
       "<div>\n",
       "<style scoped>\n",
       "    .dataframe tbody tr th:only-of-type {\n",
       "        vertical-align: middle;\n",
       "    }\n",
       "\n",
       "    .dataframe tbody tr th {\n",
       "        vertical-align: top;\n",
       "    }\n",
       "\n",
       "    .dataframe thead th {\n",
       "        text-align: right;\n",
       "    }\n",
       "</style>\n",
       "<table border=\"1\" class=\"dataframe\">\n",
       "  <thead>\n",
       "    <tr style=\"text-align: right;\">\n",
       "      <th></th>\n",
       "      <th>id</th>\n",
       "      <th>pclass</th>\n",
       "      <th>age</th>\n",
       "      <th>sibsp</th>\n",
       "      <th>parch</th>\n",
       "      <th>fare</th>\n",
       "      <th>sex_female</th>\n",
       "      <th>sex_male</th>\n",
       "      <th>embarked_C</th>\n",
       "      <th>embarked_Q</th>\n",
       "      <th>embarked_S</th>\n",
       "    </tr>\n",
       "  </thead>\n",
       "  <tbody>\n",
       "  </tbody>\n",
       "</table>\n",
       "</div>"
      ],
      "text/plain": [
       "Empty DataFrame\n",
       "Columns: [id, pclass, age, sibsp, parch, fare, sex_female, sex_male, embarked_C, embarked_Q, embarked_S]\n",
       "Index: []"
      ]
     },
     "execution_count": 53,
     "metadata": {},
     "output_type": "execute_result"
    }
   ],
   "source": [
    "test.head(0)"
   ]
  },
  {
   "cell_type": "code",
   "execution_count": 56,
   "id": "8a4c9539",
   "metadata": {},
   "outputs": [
    {
     "name": "stdout",
     "output_type": "stream",
     "text": [
      "<class 'pandas.core.frame.DataFrame'>\n",
      "RangeIndex: 445 entries, 0 to 444\n",
      "Data columns (total 13 columns):\n",
      " #   Column      Non-Null Count  Dtype  \n",
      "---  ------      --------------  -----  \n",
      " 0   id          445 non-null    int64  \n",
      " 1   survived    445 non-null    int64  \n",
      " 2   pclass      445 non-null    int64  \n",
      " 3   age         445 non-null    float64\n",
      " 4   sibsp       445 non-null    int64  \n",
      " 5   parch       445 non-null    int64  \n",
      " 6   fare        445 non-null    float64\n",
      " 7   sex_female  445 non-null    uint8  \n",
      " 8   sex_male    445 non-null    uint8  \n",
      " 9   embarked_C  445 non-null    uint8  \n",
      " 10  embarked_N  445 non-null    uint8  \n",
      " 11  embarked_Q  445 non-null    uint8  \n",
      " 12  embarked_S  445 non-null    uint8  \n",
      "dtypes: float64(2), int64(5), uint8(6)\n",
      "memory usage: 27.1 KB\n"
     ]
    }
   ],
   "source": [
    "train.info()"
   ]
  },
  {
   "cell_type": "code",
   "execution_count": 59,
   "id": "d0d8262c",
   "metadata": {},
   "outputs": [
    {
     "data": {
      "text/html": [
       "<div>\n",
       "<style scoped>\n",
       "    .dataframe tbody tr th:only-of-type {\n",
       "        vertical-align: middle;\n",
       "    }\n",
       "\n",
       "    .dataframe tbody tr th {\n",
       "        vertical-align: top;\n",
       "    }\n",
       "\n",
       "    .dataframe thead th {\n",
       "        text-align: right;\n",
       "    }\n",
       "</style>\n",
       "<table border=\"1\" class=\"dataframe\">\n",
       "  <thead>\n",
       "    <tr style=\"text-align: right;\">\n",
       "      <th></th>\n",
       "      <th>id</th>\n",
       "      <th>pclass</th>\n",
       "      <th>age</th>\n",
       "      <th>sibsp</th>\n",
       "      <th>parch</th>\n",
       "      <th>fare</th>\n",
       "      <th>sex_female</th>\n",
       "      <th>sex_male</th>\n",
       "      <th>embarked_C</th>\n",
       "      <th>embarked_N</th>\n",
       "      <th>embarked_Q</th>\n",
       "      <th>embarked_S</th>\n",
       "    </tr>\n",
       "  </thead>\n",
       "  <tbody>\n",
       "    <tr>\n",
       "      <th>0</th>\n",
       "      <td>3</td>\n",
       "      <td>1</td>\n",
       "      <td>35.0</td>\n",
       "      <td>1</td>\n",
       "      <td>0</td>\n",
       "      <td>53.1000</td>\n",
       "      <td>1</td>\n",
       "      <td>0</td>\n",
       "      <td>0</td>\n",
       "      <td>0</td>\n",
       "      <td>0</td>\n",
       "      <td>1</td>\n",
       "    </tr>\n",
       "    <tr>\n",
       "      <th>1</th>\n",
       "      <td>4</td>\n",
       "      <td>3</td>\n",
       "      <td>35.0</td>\n",
       "      <td>0</td>\n",
       "      <td>0</td>\n",
       "      <td>8.0500</td>\n",
       "      <td>0</td>\n",
       "      <td>1</td>\n",
       "      <td>0</td>\n",
       "      <td>0</td>\n",
       "      <td>0</td>\n",
       "      <td>1</td>\n",
       "    </tr>\n",
       "    <tr>\n",
       "      <th>2</th>\n",
       "      <td>7</td>\n",
       "      <td>3</td>\n",
       "      <td>2.0</td>\n",
       "      <td>3</td>\n",
       "      <td>1</td>\n",
       "      <td>21.0750</td>\n",
       "      <td>0</td>\n",
       "      <td>1</td>\n",
       "      <td>0</td>\n",
       "      <td>0</td>\n",
       "      <td>0</td>\n",
       "      <td>1</td>\n",
       "    </tr>\n",
       "    <tr>\n",
       "      <th>3</th>\n",
       "      <td>9</td>\n",
       "      <td>2</td>\n",
       "      <td>14.0</td>\n",
       "      <td>1</td>\n",
       "      <td>0</td>\n",
       "      <td>30.0708</td>\n",
       "      <td>1</td>\n",
       "      <td>0</td>\n",
       "      <td>1</td>\n",
       "      <td>0</td>\n",
       "      <td>0</td>\n",
       "      <td>0</td>\n",
       "    </tr>\n",
       "    <tr>\n",
       "      <th>4</th>\n",
       "      <td>11</td>\n",
       "      <td>1</td>\n",
       "      <td>58.0</td>\n",
       "      <td>0</td>\n",
       "      <td>0</td>\n",
       "      <td>26.5500</td>\n",
       "      <td>1</td>\n",
       "      <td>0</td>\n",
       "      <td>0</td>\n",
       "      <td>0</td>\n",
       "      <td>0</td>\n",
       "      <td>1</td>\n",
       "    </tr>\n",
       "  </tbody>\n",
       "</table>\n",
       "</div>"
      ],
      "text/plain": [
       "   id  pclass   age  sibsp  parch     fare  sex_female  sex_male  embarked_C  \\\n",
       "0   3       1  35.0      1      0  53.1000           1         0           0   \n",
       "1   4       3  35.0      0      0   8.0500           0         1           0   \n",
       "2   7       3   2.0      3      1  21.0750           0         1           0   \n",
       "3   9       2  14.0      1      0  30.0708           1         0           1   \n",
       "4  11       1  58.0      0      0  26.5500           1         0           0   \n",
       "\n",
       "   embarked_N  embarked_Q  embarked_S  \n",
       "0           0           0           1  \n",
       "1           0           0           1  \n",
       "2           0           0           1  \n",
       "3           0           0           0  \n",
       "4           0           0           1  "
      ]
     },
     "execution_count": 59,
     "metadata": {},
     "output_type": "execute_result"
    }
   ],
   "source": [
    "y = train['survived']\n",
    "trainX = train.drop('survived', axis=1)\n",
    "trainX.head()"
   ]
  },
  {
   "cell_type": "code",
   "execution_count": 60,
   "id": "38ff7307",
   "metadata": {},
   "outputs": [],
   "source": [
    "clf = DT()"
   ]
  },
  {
   "cell_type": "code",
   "execution_count": 61,
   "id": "f5080239",
   "metadata": {},
   "outputs": [
    {
     "name": "stdout",
     "output_type": "stream",
     "text": [
      "<class 'pandas.core.frame.DataFrame'>\n",
      "RangeIndex: 445 entries, 0 to 444\n",
      "Data columns (total 13 columns):\n",
      " #   Column      Non-Null Count  Dtype  \n",
      "---  ------      --------------  -----  \n",
      " 0   id          445 non-null    int64  \n",
      " 1   survived    445 non-null    int64  \n",
      " 2   pclass      445 non-null    int64  \n",
      " 3   age         445 non-null    float64\n",
      " 4   sibsp       445 non-null    int64  \n",
      " 5   parch       445 non-null    int64  \n",
      " 6   fare        445 non-null    float64\n",
      " 7   sex_female  445 non-null    uint8  \n",
      " 8   sex_male    445 non-null    uint8  \n",
      " 9   embarked_C  445 non-null    uint8  \n",
      " 10  embarked_N  445 non-null    uint8  \n",
      " 11  embarked_Q  445 non-null    uint8  \n",
      " 12  embarked_S  445 non-null    uint8  \n",
      "dtypes: float64(2), int64(5), uint8(6)\n",
      "memory usage: 27.1 KB\n"
     ]
    }
   ],
   "source": [
    "train.info()"
   ]
  },
  {
   "cell_type": "code",
   "execution_count": 65,
   "id": "32c918be",
   "metadata": {},
   "outputs": [],
   "source": [
    "parameters = {'max_depth': list(range(2,11)), 'min_samples_leaf':[5,10,20,50,100,500]}"
   ]
  },
  {
   "cell_type": "code",
   "execution_count": 66,
   "id": "22ec9b9f",
   "metadata": {},
   "outputs": [
    {
     "data": {
      "text/plain": [
       "{'max_depth': [2, 3, 4, 5, 6, 7, 8, 9, 10],\n",
       " 'min_samples_leaf': [5, 10, 20, 50, 100, 500]}"
      ]
     },
     "execution_count": 66,
     "metadata": {},
     "output_type": "execute_result"
    }
   ],
   "source": [
    "parameters"
   ]
  },
  {
   "cell_type": "code",
   "execution_count": 67,
   "id": "1c800b9b",
   "metadata": {},
   "outputs": [
    {
     "data": {
      "text/plain": [
       "GridSearchCV(cv=5, estimator=DecisionTreeClassifier(), n_jobs=-1,\n",
       "             param_grid={'max_depth': [2, 3, 4, 5, 6, 7, 8, 9, 10],\n",
       "                         'min_samples_leaf': [5, 10, 20, 50, 100, 500]},\n",
       "             return_train_score=True, scoring='roc_auc')"
      ]
     },
     "execution_count": 67,
     "metadata": {},
     "output_type": "execute_result"
    }
   ],
   "source": [
    "#gcv = GridSearchCV(clf3, parameters, cv=5, scoring='roc_auc', n_jobs=-1,return_train_score=True )\n",
    "#gcv.fit(trainX, y)\n",
    "gcv = GridSearchCV(clf, parameters, cv=5, scoring='roc_auc', n_jobs=-1, return_train_score=True)\n",
    "gcv.fit(trainX, y)"
   ]
  },
  {
   "cell_type": "code",
   "execution_count": 68,
   "id": "b76c9518",
   "metadata": {},
   "outputs": [
    {
     "data": {
      "text/plain": [
       "{'max_depth': 3, 'min_samples_leaf': 10}"
      ]
     },
     "execution_count": 68,
     "metadata": {},
     "output_type": "execute_result"
    }
   ],
   "source": [
    "gcv.best_params_"
   ]
  },
  {
   "cell_type": "code",
   "execution_count": 70,
   "id": "5dd5ea4b",
   "metadata": {},
   "outputs": [
    {
     "data": {
      "text/html": [
       "<div>\n",
       "<style scoped>\n",
       "    .dataframe tbody tr th:only-of-type {\n",
       "        vertical-align: middle;\n",
       "    }\n",
       "\n",
       "    .dataframe tbody tr th {\n",
       "        vertical-align: top;\n",
       "    }\n",
       "\n",
       "    .dataframe thead th {\n",
       "        text-align: right;\n",
       "    }\n",
       "</style>\n",
       "<table border=\"1\" class=\"dataframe\">\n",
       "  <thead>\n",
       "    <tr style=\"text-align: right;\">\n",
       "      <th></th>\n",
       "      <th>id</th>\n",
       "      <th>pclass</th>\n",
       "      <th>age</th>\n",
       "      <th>sibsp</th>\n",
       "      <th>parch</th>\n",
       "      <th>fare</th>\n",
       "      <th>sex_female</th>\n",
       "      <th>sex_male</th>\n",
       "      <th>embarked_C</th>\n",
       "      <th>embarked_Q</th>\n",
       "      <th>embarked_S</th>\n",
       "    </tr>\n",
       "  </thead>\n",
       "  <tbody>\n",
       "    <tr>\n",
       "      <th>0</th>\n",
       "      <td>0</td>\n",
       "      <td>3</td>\n",
       "      <td>22.00</td>\n",
       "      <td>1</td>\n",
       "      <td>0</td>\n",
       "      <td>7.2500</td>\n",
       "      <td>0</td>\n",
       "      <td>1</td>\n",
       "      <td>0</td>\n",
       "      <td>0</td>\n",
       "      <td>1</td>\n",
       "    </tr>\n",
       "    <tr>\n",
       "      <th>1</th>\n",
       "      <td>1</td>\n",
       "      <td>1</td>\n",
       "      <td>38.00</td>\n",
       "      <td>1</td>\n",
       "      <td>0</td>\n",
       "      <td>71.2833</td>\n",
       "      <td>1</td>\n",
       "      <td>0</td>\n",
       "      <td>1</td>\n",
       "      <td>0</td>\n",
       "      <td>0</td>\n",
       "    </tr>\n",
       "    <tr>\n",
       "      <th>2</th>\n",
       "      <td>2</td>\n",
       "      <td>3</td>\n",
       "      <td>26.00</td>\n",
       "      <td>0</td>\n",
       "      <td>0</td>\n",
       "      <td>7.9250</td>\n",
       "      <td>1</td>\n",
       "      <td>0</td>\n",
       "      <td>0</td>\n",
       "      <td>0</td>\n",
       "      <td>1</td>\n",
       "    </tr>\n",
       "    <tr>\n",
       "      <th>3</th>\n",
       "      <td>5</td>\n",
       "      <td>3</td>\n",
       "      <td>28.25</td>\n",
       "      <td>0</td>\n",
       "      <td>0</td>\n",
       "      <td>8.4583</td>\n",
       "      <td>0</td>\n",
       "      <td>1</td>\n",
       "      <td>0</td>\n",
       "      <td>1</td>\n",
       "      <td>0</td>\n",
       "    </tr>\n",
       "    <tr>\n",
       "      <th>4</th>\n",
       "      <td>6</td>\n",
       "      <td>1</td>\n",
       "      <td>54.00</td>\n",
       "      <td>0</td>\n",
       "      <td>0</td>\n",
       "      <td>51.8625</td>\n",
       "      <td>0</td>\n",
       "      <td>1</td>\n",
       "      <td>0</td>\n",
       "      <td>0</td>\n",
       "      <td>1</td>\n",
       "    </tr>\n",
       "  </tbody>\n",
       "</table>\n",
       "</div>"
      ],
      "text/plain": [
       "   id  pclass    age  sibsp  parch     fare  sex_female  sex_male  embarked_C  \\\n",
       "0   0       3  22.00      1      0   7.2500           0         1           0   \n",
       "1   1       1  38.00      1      0  71.2833           1         0           1   \n",
       "2   2       3  26.00      0      0   7.9250           1         0           0   \n",
       "3   5       3  28.25      0      0   8.4583           0         1           0   \n",
       "4   6       1  54.00      0      0  51.8625           0         1           0   \n",
       "\n",
       "   embarked_Q  embarked_S  \n",
       "0           0           1  \n",
       "1           0           0  \n",
       "2           0           1  \n",
       "3           1           0  \n",
       "4           0           1  "
      ]
     },
     "execution_count": 70,
     "metadata": {},
     "output_type": "execute_result"
    }
   ],
   "source": [
    "testX = test.copy()\n",
    "testX.head()"
   ]
  },
  {
   "cell_type": "code",
   "execution_count": 73,
   "id": "341e1c46",
   "metadata": {},
   "outputs": [],
   "source": [
    "testX['embarked_N'] = 0"
   ]
  },
  {
   "cell_type": "code",
   "execution_count": 74,
   "id": "341681e9",
   "metadata": {},
   "outputs": [
    {
     "data": {
      "text/html": [
       "<div>\n",
       "<style scoped>\n",
       "    .dataframe tbody tr th:only-of-type {\n",
       "        vertical-align: middle;\n",
       "    }\n",
       "\n",
       "    .dataframe tbody tr th {\n",
       "        vertical-align: top;\n",
       "    }\n",
       "\n",
       "    .dataframe thead th {\n",
       "        text-align: right;\n",
       "    }\n",
       "</style>\n",
       "<table border=\"1\" class=\"dataframe\">\n",
       "  <thead>\n",
       "    <tr style=\"text-align: right;\">\n",
       "      <th></th>\n",
       "      <th>id</th>\n",
       "      <th>pclass</th>\n",
       "      <th>age</th>\n",
       "      <th>sibsp</th>\n",
       "      <th>parch</th>\n",
       "      <th>fare</th>\n",
       "      <th>sex_female</th>\n",
       "      <th>sex_male</th>\n",
       "      <th>embarked_C</th>\n",
       "      <th>embarked_Q</th>\n",
       "      <th>embarked_S</th>\n",
       "      <th>embarked_N</th>\n",
       "    </tr>\n",
       "  </thead>\n",
       "  <tbody>\n",
       "    <tr>\n",
       "      <th>0</th>\n",
       "      <td>0</td>\n",
       "      <td>3</td>\n",
       "      <td>22.00</td>\n",
       "      <td>1</td>\n",
       "      <td>0</td>\n",
       "      <td>7.2500</td>\n",
       "      <td>0</td>\n",
       "      <td>1</td>\n",
       "      <td>0</td>\n",
       "      <td>0</td>\n",
       "      <td>1</td>\n",
       "      <td>0</td>\n",
       "    </tr>\n",
       "    <tr>\n",
       "      <th>1</th>\n",
       "      <td>1</td>\n",
       "      <td>1</td>\n",
       "      <td>38.00</td>\n",
       "      <td>1</td>\n",
       "      <td>0</td>\n",
       "      <td>71.2833</td>\n",
       "      <td>1</td>\n",
       "      <td>0</td>\n",
       "      <td>1</td>\n",
       "      <td>0</td>\n",
       "      <td>0</td>\n",
       "      <td>0</td>\n",
       "    </tr>\n",
       "    <tr>\n",
       "      <th>2</th>\n",
       "      <td>2</td>\n",
       "      <td>3</td>\n",
       "      <td>26.00</td>\n",
       "      <td>0</td>\n",
       "      <td>0</td>\n",
       "      <td>7.9250</td>\n",
       "      <td>1</td>\n",
       "      <td>0</td>\n",
       "      <td>0</td>\n",
       "      <td>0</td>\n",
       "      <td>1</td>\n",
       "      <td>0</td>\n",
       "    </tr>\n",
       "    <tr>\n",
       "      <th>3</th>\n",
       "      <td>5</td>\n",
       "      <td>3</td>\n",
       "      <td>28.25</td>\n",
       "      <td>0</td>\n",
       "      <td>0</td>\n",
       "      <td>8.4583</td>\n",
       "      <td>0</td>\n",
       "      <td>1</td>\n",
       "      <td>0</td>\n",
       "      <td>1</td>\n",
       "      <td>0</td>\n",
       "      <td>0</td>\n",
       "    </tr>\n",
       "    <tr>\n",
       "      <th>4</th>\n",
       "      <td>6</td>\n",
       "      <td>1</td>\n",
       "      <td>54.00</td>\n",
       "      <td>0</td>\n",
       "      <td>0</td>\n",
       "      <td>51.8625</td>\n",
       "      <td>0</td>\n",
       "      <td>1</td>\n",
       "      <td>0</td>\n",
       "      <td>0</td>\n",
       "      <td>1</td>\n",
       "      <td>0</td>\n",
       "    </tr>\n",
       "  </tbody>\n",
       "</table>\n",
       "</div>"
      ],
      "text/plain": [
       "   id  pclass    age  sibsp  parch     fare  sex_female  sex_male  embarked_C  \\\n",
       "0   0       3  22.00      1      0   7.2500           0         1           0   \n",
       "1   1       1  38.00      1      0  71.2833           1         0           1   \n",
       "2   2       3  26.00      0      0   7.9250           1         0           0   \n",
       "3   5       3  28.25      0      0   8.4583           0         1           0   \n",
       "4   6       1  54.00      0      0  51.8625           0         1           0   \n",
       "\n",
       "   embarked_Q  embarked_S  embarked_N  \n",
       "0           0           1           0  \n",
       "1           0           0           0  \n",
       "2           0           1           0  \n",
       "3           1           0           0  \n",
       "4           0           1           0  "
      ]
     },
     "execution_count": 74,
     "metadata": {},
     "output_type": "execute_result"
    }
   ],
   "source": [
    "testX.head()"
   ]
  },
  {
   "cell_type": "code",
   "execution_count": 80,
   "id": "d0bf5de4",
   "metadata": {},
   "outputs": [
    {
     "data": {
      "text/plain": [
       "array([0.11818182, 0.94594595, 0.68518519, 0.11818182, 0.48888889,\n",
       "       0.68518519, 0.68518519, 0.11818182, 0.68518519, 0.76470588,\n",
       "       0.11818182, 0.68518519, 0.11818182, 0.11818182, 0.68518519,\n",
       "       0.48888889, 0.48888889, 0.94594595, 0.48888889, 0.48888889,\n",
       "       0.11818182, 0.68518519, 0.68518519, 0.68518519, 0.11818182,\n",
       "       0.11818182, 0.11818182, 0.68518519, 0.57142857, 0.11818182,\n",
       "       0.94594595, 0.48888889, 0.48888889, 0.11818182, 0.48888889,\n",
       "       0.48888889, 0.11818182, 0.76470588, 0.68518519, 0.09090909,\n",
       "       0.11818182, 0.11818182, 0.11818182, 0.11818182, 0.57142857,\n",
       "       0.68518519, 0.11818182, 0.68518519, 0.11818182, 0.11818182,\n",
       "       0.48888889, 0.48888889, 0.48888889, 0.68518519, 0.11818182,\n",
       "       0.48888889, 0.11818182, 0.11818182, 0.11818182, 0.11818182,\n",
       "       0.11818182, 0.09090909, 0.68518519, 0.11818182, 0.48888889,\n",
       "       0.11818182, 0.48888889, 0.11818182, 0.68518519, 0.94594595,\n",
       "       0.68518519, 0.68518519, 0.68518519, 0.11818182, 0.11818182,\n",
       "       0.11818182, 0.11818182, 0.48888889, 0.68518519, 0.11818182,\n",
       "       0.11818182, 0.11818182, 0.76470588, 0.11818182, 0.11818182,\n",
       "       0.09090909, 0.48888889, 0.57142857, 0.68518519, 0.11818182,\n",
       "       0.11818182, 0.11818182, 0.11818182, 0.11818182, 0.48888889,\n",
       "       0.48888889, 0.11818182, 0.76470588, 0.57142857, 0.94594595,\n",
       "       0.11818182, 0.68518519, 0.11818182, 0.11818182, 0.11818182,\n",
       "       0.68518519, 0.11818182, 0.68518519, 0.11818182, 0.76470588,\n",
       "       0.11818182, 0.94594595, 0.94594595, 0.11818182, 0.11818182,\n",
       "       0.11818182, 0.09090909, 0.94594595, 0.11818182, 0.09090909,\n",
       "       0.68518519, 0.11818182, 0.11818182, 0.11818182, 0.68518519,\n",
       "       0.68518519, 0.11818182, 0.11818182, 0.48888889, 0.76470588,\n",
       "       0.11818182, 0.11818182, 0.68518519, 0.48888889, 0.11818182,\n",
       "       0.68518519, 0.94594595, 0.57142857, 0.48888889, 0.48888889,\n",
       "       0.68518519, 0.11818182, 0.11818182, 0.94594595, 0.48888889,\n",
       "       0.11818182, 0.76470588, 0.57142857, 0.68518519, 0.11818182,\n",
       "       0.11818182, 0.68518519, 0.11818182, 0.48888889, 0.94594595,\n",
       "       0.11818182, 0.11818182, 0.76470588, 0.11818182, 0.94594595,\n",
       "       0.11818182, 0.94594595, 0.94594595, 0.94594595, 0.94594595,\n",
       "       0.11818182, 0.68518519, 0.94594595, 0.11818182, 0.94594595,\n",
       "       0.94594595, 0.11818182, 0.76470588, 0.48888889, 0.11818182,\n",
       "       0.94594595, 0.94594595, 0.11818182, 0.11818182, 0.11818182,\n",
       "       0.76470588, 0.76470588, 0.11818182, 0.48888889, 0.11818182,\n",
       "       0.11818182, 0.94594595, 0.68518519, 0.11818182, 0.68518519,\n",
       "       0.11818182, 0.11818182, 0.94594595, 0.68518519, 0.11818182,\n",
       "       0.68518519, 0.94594595, 0.11818182, 0.11818182, 0.94594595,\n",
       "       0.11818182, 0.11818182, 0.57142857, 0.76470588, 0.48888889,\n",
       "       0.11818182, 0.11818182, 0.11818182, 0.11818182, 0.76470588,\n",
       "       0.11818182, 0.68518519, 0.11818182, 0.11818182, 0.11818182,\n",
       "       0.09090909, 0.94594595, 0.11818182, 0.94594595, 0.11818182,\n",
       "       0.11818182, 0.11818182, 0.11818182, 0.11818182, 0.11818182,\n",
       "       0.94594595, 0.48888889, 0.09090909, 0.11818182, 0.94594595,\n",
       "       0.11818182, 0.76470588, 0.48888889, 0.11818182, 0.48888889,\n",
       "       0.48888889, 0.48888889, 0.94594595, 0.76470588, 0.48888889,\n",
       "       0.48888889, 0.11818182, 0.48888889, 0.11818182, 0.68518519,\n",
       "       0.48888889, 0.11818182, 0.11818182, 0.68518519, 0.11818182,\n",
       "       0.11818182, 0.68518519, 0.48888889, 0.09090909, 0.48888889,\n",
       "       0.11818182, 0.11818182, 0.48888889, 0.48888889, 0.11818182,\n",
       "       0.11818182, 0.94594595, 0.11818182, 0.68518519, 0.68518519,\n",
       "       0.48888889, 0.94594595, 0.11818182, 0.94594595, 0.76470588,\n",
       "       0.94594595, 0.11818182, 0.94594595, 0.11818182, 0.11818182,\n",
       "       0.94594595, 0.11818182, 0.76470588, 0.48888889, 0.11818182,\n",
       "       0.94594595, 0.11818182, 0.11818182, 0.68518519, 0.94594595,\n",
       "       0.11818182, 0.09090909, 0.48888889, 0.11818182, 0.11818182,\n",
       "       0.48888889, 0.94594595, 0.11818182, 0.11818182, 0.68518519,\n",
       "       0.11818182, 0.68518519, 0.11818182, 0.48888889, 0.68518519,\n",
       "       0.68518519, 0.94594595, 0.48888889, 0.94594595, 0.48888889,\n",
       "       0.11818182, 0.11818182, 0.94594595, 0.11818182, 0.11818182,\n",
       "       0.94594595, 0.68518519, 0.11818182, 0.94594595, 0.94594595,\n",
       "       0.11818182, 0.11818182, 0.48888889, 0.11818182, 0.94594595,\n",
       "       0.11818182, 0.48888889, 0.09090909, 0.76470588, 0.09090909,\n",
       "       0.09090909, 0.11818182, 0.68518519, 0.11818182, 0.48888889,\n",
       "       0.11818182, 0.11818182, 0.11818182, 0.68518519, 0.68518519,\n",
       "       0.11818182, 0.11818182, 0.68518519, 0.11818182, 0.11818182,\n",
       "       0.94594595, 0.48888889, 0.11818182, 0.11818182, 0.11818182,\n",
       "       0.09090909, 0.68518519, 0.48888889, 0.11818182, 0.11818182,\n",
       "       0.11818182, 0.11818182, 0.48888889, 0.11818182, 0.48888889,\n",
       "       0.94594595, 0.48888889, 0.11818182, 0.76470588, 0.94594595,\n",
       "       0.94594595, 0.2       , 0.11818182, 0.11818182, 0.11818182,\n",
       "       0.94594595, 0.11818182, 0.2       , 0.11818182, 0.76470588,\n",
       "       0.68518519, 0.11818182, 0.11818182, 0.11818182, 0.11818182,\n",
       "       0.2       , 0.94594595, 0.11818182, 0.94594595, 0.11818182,\n",
       "       0.11818182, 0.11818182, 0.11818182, 0.11818182, 0.11818182,\n",
       "       0.2       , 0.11818182, 0.11818182, 0.11818182, 0.11818182,\n",
       "       0.68518519, 0.2       , 0.11818182, 0.11818182, 0.68518519,\n",
       "       0.11818182, 0.57142857, 0.94594595, 0.09090909, 0.11818182,\n",
       "       0.57142857, 0.2       , 0.68518519, 0.11818182, 0.11818182,\n",
       "       0.11818182, 0.09090909, 0.2       , 0.68518519, 0.11818182,\n",
       "       0.11818182, 0.11818182, 0.94594595, 0.2       , 0.68518519,\n",
       "       0.11818182, 0.57142857, 0.11818182, 0.11818182, 0.11818182,\n",
       "       0.11818182, 0.2       , 0.11818182, 0.11818182, 0.11818182,\n",
       "       0.11818182, 0.68518519, 0.2       , 0.11818182, 0.94594595,\n",
       "       0.11818182, 0.76470588, 0.11818182, 0.68518519, 0.11818182,\n",
       "       0.11818182, 0.11818182, 0.94594595, 0.11818182, 0.68518519,\n",
       "       0.11818182, 0.09090909, 0.11818182, 0.94594595, 0.2       ,\n",
       "       0.11818182])"
      ]
     },
     "execution_count": 80,
     "metadata": {},
     "output_type": "execute_result"
    }
   ],
   "source": [
    "pred = gcv.predict_proba(testX)\n",
    "pred[:,1]"
   ]
  },
  {
   "cell_type": "code",
   "execution_count": 82,
   "id": "87008e03",
   "metadata": {},
   "outputs": [],
   "source": [
    "sample[1] = pred[:,1]"
   ]
  },
  {
   "cell_type": "code",
   "execution_count": 83,
   "id": "2cdaed5f",
   "metadata": {},
   "outputs": [
    {
     "data": {
      "text/html": [
       "<div>\n",
       "<style scoped>\n",
       "    .dataframe tbody tr th:only-of-type {\n",
       "        vertical-align: middle;\n",
       "    }\n",
       "\n",
       "    .dataframe tbody tr th {\n",
       "        vertical-align: top;\n",
       "    }\n",
       "\n",
       "    .dataframe thead th {\n",
       "        text-align: right;\n",
       "    }\n",
       "</style>\n",
       "<table border=\"1\" class=\"dataframe\">\n",
       "  <thead>\n",
       "    <tr style=\"text-align: right;\">\n",
       "      <th></th>\n",
       "      <th>0</th>\n",
       "      <th>1</th>\n",
       "    </tr>\n",
       "  </thead>\n",
       "  <tbody>\n",
       "    <tr>\n",
       "      <th>0</th>\n",
       "      <td>0</td>\n",
       "      <td>0.118182</td>\n",
       "    </tr>\n",
       "    <tr>\n",
       "      <th>1</th>\n",
       "      <td>1</td>\n",
       "      <td>0.945946</td>\n",
       "    </tr>\n",
       "    <tr>\n",
       "      <th>2</th>\n",
       "      <td>2</td>\n",
       "      <td>0.685185</td>\n",
       "    </tr>\n",
       "    <tr>\n",
       "      <th>3</th>\n",
       "      <td>5</td>\n",
       "      <td>0.118182</td>\n",
       "    </tr>\n",
       "    <tr>\n",
       "      <th>4</th>\n",
       "      <td>6</td>\n",
       "      <td>0.488889</td>\n",
       "    </tr>\n",
       "  </tbody>\n",
       "</table>\n",
       "</div>"
      ],
      "text/plain": [
       "   0         1\n",
       "0  0  0.118182\n",
       "1  1  0.945946\n",
       "2  2  0.685185\n",
       "3  5  0.118182\n",
       "4  6  0.488889"
      ]
     },
     "execution_count": 83,
     "metadata": {},
     "output_type": "execute_result"
    }
   ],
   "source": [
    "sample.head()"
   ]
  },
  {
   "cell_type": "code",
   "execution_count": 84,
   "id": "f2234c25",
   "metadata": {},
   "outputs": [],
   "source": [
    "sample.to_csv('submit1.tsv', header=None, index=None,sep='\\t')"
   ]
  },
  {
   "cell_type": "code",
   "execution_count": null,
   "id": "803e395d",
   "metadata": {},
   "outputs": [],
   "source": []
  }
 ],
 "metadata": {
  "kernelspec": {
   "display_name": "Python 3",
   "language": "python",
   "name": "python3"
  },
  "language_info": {
   "codemirror_mode": {
    "name": "ipython",
    "version": 3
   },
   "file_extension": ".py",
   "mimetype": "text/x-python",
   "name": "python",
   "nbconvert_exporter": "python",
   "pygments_lexer": "ipython3",
   "version": "3.8.8"
  }
 },
 "nbformat": 4,
 "nbformat_minor": 5
}
