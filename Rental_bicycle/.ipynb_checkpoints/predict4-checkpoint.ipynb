{
 "cells": [
  {
   "cell_type": "markdown",
   "id": "aa85fa13",
   "metadata": {},
   "source": [
    "# 線形回帰を使った解析２"
   ]
  },
  {
   "cell_type": "code",
   "execution_count": 62,
   "id": "808c880e",
   "metadata": {},
   "outputs": [],
   "source": [
    "import pandas as pd\n",
    "import numpy as np\n",
    "from matplotlib import pyplot as plt\n",
    "%matplotlib inline"
   ]
  },
  {
   "cell_type": "markdown",
   "id": "5a34e687",
   "metadata": {},
   "source": [
    "### ファイル読み込み"
   ]
  },
  {
   "cell_type": "code",
   "execution_count": 63,
   "id": "65c68ee1",
   "metadata": {},
   "outputs": [],
   "source": [
    "train = pd.read_csv('train.tsv', delimiter='\\t')\n",
    "test = pd.read_csv('test.tsv', delimiter='\\t')\n",
    "sample = pd.read_csv('sample_submit.csv', header = None)"
   ]
  },
  {
   "cell_type": "code",
   "execution_count": 64,
   "id": "4b37fa53",
   "metadata": {},
   "outputs": [
    {
     "data": {
      "text/html": [
       "<div>\n",
       "<style scoped>\n",
       "    .dataframe tbody tr th:only-of-type {\n",
       "        vertical-align: middle;\n",
       "    }\n",
       "\n",
       "    .dataframe tbody tr th {\n",
       "        vertical-align: top;\n",
       "    }\n",
       "\n",
       "    .dataframe thead th {\n",
       "        text-align: right;\n",
       "    }\n",
       "</style>\n",
       "<table border=\"1\" class=\"dataframe\">\n",
       "  <thead>\n",
       "    <tr style=\"text-align: right;\">\n",
       "      <th></th>\n",
       "      <th>id</th>\n",
       "      <th>dteday</th>\n",
       "      <th>season</th>\n",
       "      <th>yr</th>\n",
       "      <th>mnth</th>\n",
       "      <th>hr</th>\n",
       "      <th>holiday</th>\n",
       "      <th>weekday</th>\n",
       "      <th>workingday</th>\n",
       "      <th>weathersit</th>\n",
       "      <th>temp</th>\n",
       "      <th>atemp</th>\n",
       "      <th>hum</th>\n",
       "      <th>windspeed</th>\n",
       "      <th>cnt</th>\n",
       "    </tr>\n",
       "  </thead>\n",
       "  <tbody>\n",
       "    <tr>\n",
       "      <th>0</th>\n",
       "      <td>1</td>\n",
       "      <td>2011-01-01</td>\n",
       "      <td>1</td>\n",
       "      <td>0</td>\n",
       "      <td>1</td>\n",
       "      <td>0</td>\n",
       "      <td>0</td>\n",
       "      <td>6</td>\n",
       "      <td>0</td>\n",
       "      <td>1</td>\n",
       "      <td>0.24</td>\n",
       "      <td>0.2879</td>\n",
       "      <td>0.81</td>\n",
       "      <td>0.0</td>\n",
       "      <td>16</td>\n",
       "    </tr>\n",
       "    <tr>\n",
       "      <th>1</th>\n",
       "      <td>2</td>\n",
       "      <td>2011-01-01</td>\n",
       "      <td>1</td>\n",
       "      <td>0</td>\n",
       "      <td>1</td>\n",
       "      <td>1</td>\n",
       "      <td>0</td>\n",
       "      <td>6</td>\n",
       "      <td>0</td>\n",
       "      <td>1</td>\n",
       "      <td>0.22</td>\n",
       "      <td>0.2727</td>\n",
       "      <td>0.80</td>\n",
       "      <td>0.0</td>\n",
       "      <td>40</td>\n",
       "    </tr>\n",
       "    <tr>\n",
       "      <th>2</th>\n",
       "      <td>3</td>\n",
       "      <td>2011-01-01</td>\n",
       "      <td>1</td>\n",
       "      <td>0</td>\n",
       "      <td>1</td>\n",
       "      <td>2</td>\n",
       "      <td>0</td>\n",
       "      <td>6</td>\n",
       "      <td>0</td>\n",
       "      <td>1</td>\n",
       "      <td>0.22</td>\n",
       "      <td>0.2727</td>\n",
       "      <td>0.80</td>\n",
       "      <td>0.0</td>\n",
       "      <td>32</td>\n",
       "    </tr>\n",
       "    <tr>\n",
       "      <th>3</th>\n",
       "      <td>4</td>\n",
       "      <td>2011-01-01</td>\n",
       "      <td>1</td>\n",
       "      <td>0</td>\n",
       "      <td>1</td>\n",
       "      <td>3</td>\n",
       "      <td>0</td>\n",
       "      <td>6</td>\n",
       "      <td>0</td>\n",
       "      <td>1</td>\n",
       "      <td>0.24</td>\n",
       "      <td>0.2879</td>\n",
       "      <td>0.75</td>\n",
       "      <td>0.0</td>\n",
       "      <td>13</td>\n",
       "    </tr>\n",
       "    <tr>\n",
       "      <th>4</th>\n",
       "      <td>5</td>\n",
       "      <td>2011-01-01</td>\n",
       "      <td>1</td>\n",
       "      <td>0</td>\n",
       "      <td>1</td>\n",
       "      <td>4</td>\n",
       "      <td>0</td>\n",
       "      <td>6</td>\n",
       "      <td>0</td>\n",
       "      <td>1</td>\n",
       "      <td>0.24</td>\n",
       "      <td>0.2879</td>\n",
       "      <td>0.75</td>\n",
       "      <td>0.0</td>\n",
       "      <td>1</td>\n",
       "    </tr>\n",
       "  </tbody>\n",
       "</table>\n",
       "</div>"
      ],
      "text/plain": [
       "   id      dteday  season  yr  mnth  hr  holiday  weekday  workingday  \\\n",
       "0   1  2011-01-01       1   0     1   0        0        6           0   \n",
       "1   2  2011-01-01       1   0     1   1        0        6           0   \n",
       "2   3  2011-01-01       1   0     1   2        0        6           0   \n",
       "3   4  2011-01-01       1   0     1   3        0        6           0   \n",
       "4   5  2011-01-01       1   0     1   4        0        6           0   \n",
       "\n",
       "   weathersit  temp   atemp   hum  windspeed  cnt  \n",
       "0           1  0.24  0.2879  0.81        0.0   16  \n",
       "1           1  0.22  0.2727  0.80        0.0   40  \n",
       "2           1  0.22  0.2727  0.80        0.0   32  \n",
       "3           1  0.24  0.2879  0.75        0.0   13  \n",
       "4           1  0.24  0.2879  0.75        0.0    1  "
      ]
     },
     "execution_count": 64,
     "metadata": {},
     "output_type": "execute_result"
    }
   ],
   "source": [
    "train.head()"
   ]
  },
  {
   "cell_type": "code",
   "execution_count": 65,
   "id": "f1697e2a",
   "metadata": {},
   "outputs": [
    {
     "data": {
      "text/html": [
       "<div>\n",
       "<style scoped>\n",
       "    .dataframe tbody tr th:only-of-type {\n",
       "        vertical-align: middle;\n",
       "    }\n",
       "\n",
       "    .dataframe tbody tr th {\n",
       "        vertical-align: top;\n",
       "    }\n",
       "\n",
       "    .dataframe thead th {\n",
       "        text-align: right;\n",
       "    }\n",
       "</style>\n",
       "<table border=\"1\" class=\"dataframe\">\n",
       "  <thead>\n",
       "    <tr style=\"text-align: right;\">\n",
       "      <th></th>\n",
       "      <th>id</th>\n",
       "      <th>dteday</th>\n",
       "      <th>season</th>\n",
       "      <th>yr</th>\n",
       "      <th>mnth</th>\n",
       "      <th>hr</th>\n",
       "      <th>holiday</th>\n",
       "      <th>weekday</th>\n",
       "      <th>workingday</th>\n",
       "      <th>weathersit</th>\n",
       "      <th>temp</th>\n",
       "      <th>atemp</th>\n",
       "      <th>hum</th>\n",
       "      <th>windspeed</th>\n",
       "    </tr>\n",
       "  </thead>\n",
       "  <tbody>\n",
       "    <tr>\n",
       "      <th>0</th>\n",
       "      <td>8646</td>\n",
       "      <td>2012-01-01</td>\n",
       "      <td>1</td>\n",
       "      <td>1</td>\n",
       "      <td>1</td>\n",
       "      <td>0</td>\n",
       "      <td>0</td>\n",
       "      <td>0</td>\n",
       "      <td>0</td>\n",
       "      <td>1</td>\n",
       "      <td>0.36</td>\n",
       "      <td>0.3788</td>\n",
       "      <td>0.66</td>\n",
       "      <td>0.0000</td>\n",
       "    </tr>\n",
       "    <tr>\n",
       "      <th>1</th>\n",
       "      <td>8647</td>\n",
       "      <td>2012-01-01</td>\n",
       "      <td>1</td>\n",
       "      <td>1</td>\n",
       "      <td>1</td>\n",
       "      <td>1</td>\n",
       "      <td>0</td>\n",
       "      <td>0</td>\n",
       "      <td>0</td>\n",
       "      <td>1</td>\n",
       "      <td>0.36</td>\n",
       "      <td>0.3485</td>\n",
       "      <td>0.66</td>\n",
       "      <td>0.1343</td>\n",
       "    </tr>\n",
       "    <tr>\n",
       "      <th>2</th>\n",
       "      <td>8648</td>\n",
       "      <td>2012-01-01</td>\n",
       "      <td>1</td>\n",
       "      <td>1</td>\n",
       "      <td>1</td>\n",
       "      <td>2</td>\n",
       "      <td>0</td>\n",
       "      <td>0</td>\n",
       "      <td>0</td>\n",
       "      <td>1</td>\n",
       "      <td>0.32</td>\n",
       "      <td>0.3485</td>\n",
       "      <td>0.76</td>\n",
       "      <td>0.0000</td>\n",
       "    </tr>\n",
       "    <tr>\n",
       "      <th>3</th>\n",
       "      <td>8649</td>\n",
       "      <td>2012-01-01</td>\n",
       "      <td>1</td>\n",
       "      <td>1</td>\n",
       "      <td>1</td>\n",
       "      <td>3</td>\n",
       "      <td>0</td>\n",
       "      <td>0</td>\n",
       "      <td>0</td>\n",
       "      <td>1</td>\n",
       "      <td>0.30</td>\n",
       "      <td>0.3333</td>\n",
       "      <td>0.81</td>\n",
       "      <td>0.0000</td>\n",
       "    </tr>\n",
       "    <tr>\n",
       "      <th>4</th>\n",
       "      <td>8650</td>\n",
       "      <td>2012-01-01</td>\n",
       "      <td>1</td>\n",
       "      <td>1</td>\n",
       "      <td>1</td>\n",
       "      <td>4</td>\n",
       "      <td>0</td>\n",
       "      <td>0</td>\n",
       "      <td>0</td>\n",
       "      <td>1</td>\n",
       "      <td>0.28</td>\n",
       "      <td>0.3030</td>\n",
       "      <td>0.81</td>\n",
       "      <td>0.0896</td>\n",
       "    </tr>\n",
       "  </tbody>\n",
       "</table>\n",
       "</div>"
      ],
      "text/plain": [
       "     id      dteday  season  yr  mnth  hr  holiday  weekday  workingday  \\\n",
       "0  8646  2012-01-01       1   1     1   0        0        0           0   \n",
       "1  8647  2012-01-01       1   1     1   1        0        0           0   \n",
       "2  8648  2012-01-01       1   1     1   2        0        0           0   \n",
       "3  8649  2012-01-01       1   1     1   3        0        0           0   \n",
       "4  8650  2012-01-01       1   1     1   4        0        0           0   \n",
       "\n",
       "   weathersit  temp   atemp   hum  windspeed  \n",
       "0           1  0.36  0.3788  0.66     0.0000  \n",
       "1           1  0.36  0.3485  0.66     0.1343  \n",
       "2           1  0.32  0.3485  0.76     0.0000  \n",
       "3           1  0.30  0.3333  0.81     0.0000  \n",
       "4           1  0.28  0.3030  0.81     0.0896  "
      ]
     },
     "execution_count": 65,
     "metadata": {},
     "output_type": "execute_result"
    }
   ],
   "source": [
    "test.head()"
   ]
  },
  {
   "cell_type": "code",
   "execution_count": 66,
   "id": "a2a683cc",
   "metadata": {},
   "outputs": [
    {
     "data": {
      "text/html": [
       "<div>\n",
       "<style scoped>\n",
       "    .dataframe tbody tr th:only-of-type {\n",
       "        vertical-align: middle;\n",
       "    }\n",
       "\n",
       "    .dataframe tbody tr th {\n",
       "        vertical-align: top;\n",
       "    }\n",
       "\n",
       "    .dataframe thead th {\n",
       "        text-align: right;\n",
       "    }\n",
       "</style>\n",
       "<table border=\"1\" class=\"dataframe\">\n",
       "  <thead>\n",
       "    <tr style=\"text-align: right;\">\n",
       "      <th></th>\n",
       "      <th>0</th>\n",
       "      <th>1</th>\n",
       "    </tr>\n",
       "  </thead>\n",
       "  <tbody>\n",
       "    <tr>\n",
       "      <th>0</th>\n",
       "      <td>8646</td>\n",
       "      <td>335</td>\n",
       "    </tr>\n",
       "    <tr>\n",
       "      <th>1</th>\n",
       "      <td>8647</td>\n",
       "      <td>423</td>\n",
       "    </tr>\n",
       "    <tr>\n",
       "      <th>2</th>\n",
       "      <td>8648</td>\n",
       "      <td>516</td>\n",
       "    </tr>\n",
       "    <tr>\n",
       "      <th>3</th>\n",
       "      <td>8649</td>\n",
       "      <td>200</td>\n",
       "    </tr>\n",
       "    <tr>\n",
       "      <th>4</th>\n",
       "      <td>8650</td>\n",
       "      <td>237</td>\n",
       "    </tr>\n",
       "  </tbody>\n",
       "</table>\n",
       "</div>"
      ],
      "text/plain": [
       "      0    1\n",
       "0  8646  335\n",
       "1  8647  423\n",
       "2  8648  516\n",
       "3  8649  200\n",
       "4  8650  237"
      ]
     },
     "execution_count": 66,
     "metadata": {},
     "output_type": "execute_result"
    }
   ],
   "source": [
    "sample.head()"
   ]
  },
  {
   "cell_type": "markdown",
   "id": "af99f976",
   "metadata": {},
   "source": [
    "### 使用状況の可視化"
   ]
  },
  {
   "cell_type": "code",
   "execution_count": 67,
   "id": "c75d5843",
   "metadata": {},
   "outputs": [
    {
     "data": {
      "text/plain": [
       "[<matplotlib.lines.Line2D at 0x13b1c1a60>]"
      ]
     },
     "execution_count": 67,
     "metadata": {},
     "output_type": "execute_result"
    },
    {
     "data": {
      "image/png": "[encoded data removed]",
      "text/plain": [
       "<Figure size 864x360 with 1 Axes>"
      ]
     },
     "metadata": {
      "needs_background": "light"
     },
     "output_type": "display_data"
    }
   ],
   "source": [
    "plt.figure(figsize=(12,5))\n",
    "plt.plot(train['id'], train['cnt'])"
   ]
  },
  {
   "cell_type": "markdown",
   "id": "32d76bf7",
   "metadata": {},
   "source": [
    "### 特徴量の追加 (移動平均追加)"
   ]
  },
  {
   "cell_type": "code",
   "execution_count": 68,
   "id": "124ae6c3",
   "metadata": {},
   "outputs": [],
   "source": [
    "train[\"temp_ma5\"] = train[\"temp\"].rolling(5).mean()\n",
    "train[\"temp_ma10\"] = train[\"temp\"].rolling(10).mean()\n",
    "train[\"temp_ma15\"] = train[\"temp\"].rolling(15).mean()\n",
    "train[\"temp_ma20\"] = train[\"temp\"].rolling(20).mean()\n",
    "\n",
    "train[\"atemp_ma5\"] = train[\"atemp\"].rolling(5).mean()\n",
    "train[\"atemp_ma10\"] = train[\"atemp\"].rolling(10).mean()\n",
    "train[\"atemp_ma15\"] = train[\"atemp\"].rolling(15).mean()\n",
    "train[\"atemp_ma20\"] = train[\"atemp\"].rolling(20).mean()\n",
    "\n",
    "train[\"hum_ma5\"] = train[\"hum\"].rolling(5).mean()\n",
    "train[\"hum_ma10\"] = train[\"hum\"].rolling(10).mean()\n",
    "train[\"hum_ma15\"] = train[\"hum\"].rolling(15).mean()\n",
    "train[\"hum_ma20\"] = train[\"hum\"].rolling(20).mean()"
   ]
  },
  {
   "cell_type": "code",
   "execution_count": 69,
   "id": "b79a1c45",
   "metadata": {},
   "outputs": [
    {
     "data": {
      "text/html": [
       "<div>\n",
       "<style scoped>\n",
       "    .dataframe tbody tr th:only-of-type {\n",
       "        vertical-align: middle;\n",
       "    }\n",
       "\n",
       "    .dataframe tbody tr th {\n",
       "        vertical-align: top;\n",
       "    }\n",
       "\n",
       "    .dataframe thead th {\n",
       "        text-align: right;\n",
       "    }\n",
       "</style>\n",
       "<table border=\"1\" class=\"dataframe\">\n",
       "  <thead>\n",
       "    <tr style=\"text-align: right;\">\n",
       "      <th></th>\n",
       "      <th>id</th>\n",
       "      <th>dteday</th>\n",
       "      <th>season</th>\n",
       "      <th>yr</th>\n",
       "      <th>mnth</th>\n",
       "      <th>hr</th>\n",
       "      <th>holiday</th>\n",
       "      <th>weekday</th>\n",
       "      <th>workingday</th>\n",
       "      <th>weathersit</th>\n",
       "      <th>...</th>\n",
       "      <th>temp_ma15</th>\n",
       "      <th>temp_ma20</th>\n",
       "      <th>atemp_ma5</th>\n",
       "      <th>atemp_ma10</th>\n",
       "      <th>atemp_ma15</th>\n",
       "      <th>atemp_ma20</th>\n",
       "      <th>hum_ma5</th>\n",
       "      <th>hum_ma10</th>\n",
       "      <th>hum_ma15</th>\n",
       "      <th>hum_ma20</th>\n",
       "    </tr>\n",
       "  </thead>\n",
       "  <tbody>\n",
       "    <tr>\n",
       "      <th>0</th>\n",
       "      <td>1</td>\n",
       "      <td>2011-01-01</td>\n",
       "      <td>1</td>\n",
       "      <td>0</td>\n",
       "      <td>1</td>\n",
       "      <td>0</td>\n",
       "      <td>0</td>\n",
       "      <td>6</td>\n",
       "      <td>0</td>\n",
       "      <td>1</td>\n",
       "      <td>...</td>\n",
       "      <td>NaN</td>\n",
       "      <td>NaN</td>\n",
       "      <td>NaN</td>\n",
       "      <td>NaN</td>\n",
       "      <td>NaN</td>\n",
       "      <td>NaN</td>\n",
       "      <td>NaN</td>\n",
       "      <td>NaN</td>\n",
       "      <td>NaN</td>\n",
       "      <td>NaN</td>\n",
       "    </tr>\n",
       "    <tr>\n",
       "      <th>1</th>\n",
       "      <td>2</td>\n",
       "      <td>2011-01-01</td>\n",
       "      <td>1</td>\n",
       "      <td>0</td>\n",
       "      <td>1</td>\n",
       "      <td>1</td>\n",
       "      <td>0</td>\n",
       "      <td>6</td>\n",
       "      <td>0</td>\n",
       "      <td>1</td>\n",
       "      <td>...</td>\n",
       "      <td>NaN</td>\n",
       "      <td>NaN</td>\n",
       "      <td>NaN</td>\n",
       "      <td>NaN</td>\n",
       "      <td>NaN</td>\n",
       "      <td>NaN</td>\n",
       "      <td>NaN</td>\n",
       "      <td>NaN</td>\n",
       "      <td>NaN</td>\n",
       "      <td>NaN</td>\n",
       "    </tr>\n",
       "    <tr>\n",
       "      <th>2</th>\n",
       "      <td>3</td>\n",
       "      <td>2011-01-01</td>\n",
       "      <td>1</td>\n",
       "      <td>0</td>\n",
       "      <td>1</td>\n",
       "      <td>2</td>\n",
       "      <td>0</td>\n",
       "      <td>6</td>\n",
       "      <td>0</td>\n",
       "      <td>1</td>\n",
       "      <td>...</td>\n",
       "      <td>NaN</td>\n",
       "      <td>NaN</td>\n",
       "      <td>NaN</td>\n",
       "      <td>NaN</td>\n",
       "      <td>NaN</td>\n",
       "      <td>NaN</td>\n",
       "      <td>NaN</td>\n",
       "      <td>NaN</td>\n",
       "      <td>NaN</td>\n",
       "      <td>NaN</td>\n",
       "    </tr>\n",
       "    <tr>\n",
       "      <th>3</th>\n",
       "      <td>4</td>\n",
       "      <td>2011-01-01</td>\n",
       "      <td>1</td>\n",
       "      <td>0</td>\n",
       "      <td>1</td>\n",
       "      <td>3</td>\n",
       "      <td>0</td>\n",
       "      <td>6</td>\n",
       "      <td>0</td>\n",
       "      <td>1</td>\n",
       "      <td>...</td>\n",
       "      <td>NaN</td>\n",
       "      <td>NaN</td>\n",
       "      <td>NaN</td>\n",
       "      <td>NaN</td>\n",
       "      <td>NaN</td>\n",
       "      <td>NaN</td>\n",
       "      <td>NaN</td>\n",
       "      <td>NaN</td>\n",
       "      <td>NaN</td>\n",
       "      <td>NaN</td>\n",
       "    </tr>\n",
       "    <tr>\n",
       "      <th>4</th>\n",
       "      <td>5</td>\n",
       "      <td>2011-01-01</td>\n",
       "      <td>1</td>\n",
       "      <td>0</td>\n",
       "      <td>1</td>\n",
       "      <td>4</td>\n",
       "      <td>0</td>\n",
       "      <td>6</td>\n",
       "      <td>0</td>\n",
       "      <td>1</td>\n",
       "      <td>...</td>\n",
       "      <td>NaN</td>\n",
       "      <td>NaN</td>\n",
       "      <td>0.28182</td>\n",
       "      <td>NaN</td>\n",
       "      <td>NaN</td>\n",
       "      <td>NaN</td>\n",
       "      <td>0.782</td>\n",
       "      <td>NaN</td>\n",
       "      <td>NaN</td>\n",
       "      <td>NaN</td>\n",
       "    </tr>\n",
       "  </tbody>\n",
       "</table>\n",
       "<p>5 rows × 27 columns</p>\n",
       "</div>"
      ],
      "text/plain": [
       "   id      dteday  season  yr  mnth  hr  holiday  weekday  workingday  \\\n",
       "0   1  2011-01-01       1   0     1   0        0        6           0   \n",
       "1   2  2011-01-01       1   0     1   1        0        6           0   \n",
       "2   3  2011-01-01       1   0     1   2        0        6           0   \n",
       "3   4  2011-01-01       1   0     1   3        0        6           0   \n",
       "4   5  2011-01-01       1   0     1   4        0        6           0   \n",
       "\n",
       "   weathersit  ...  temp_ma15  temp_ma20  atemp_ma5  atemp_ma10  atemp_ma15  \\\n",
       "0           1  ...        NaN        NaN        NaN         NaN         NaN   \n",
       "1           1  ...        NaN        NaN        NaN         NaN         NaN   \n",
       "2           1  ...        NaN        NaN        NaN         NaN         NaN   \n",
       "3           1  ...        NaN        NaN        NaN         NaN         NaN   \n",
       "4           1  ...        NaN        NaN    0.28182         NaN         NaN   \n",
       "\n",
       "   atemp_ma20  hum_ma5  hum_ma10  hum_ma15  hum_ma20  \n",
       "0         NaN      NaN       NaN       NaN       NaN  \n",
       "1         NaN      NaN       NaN       NaN       NaN  \n",
       "2         NaN      NaN       NaN       NaN       NaN  \n",
       "3         NaN      NaN       NaN       NaN       NaN  \n",
       "4         NaN    0.782       NaN       NaN       NaN  \n",
       "\n",
       "[5 rows x 27 columns]"
      ]
     },
     "execution_count": 69,
     "metadata": {},
     "output_type": "execute_result"
    }
   ],
   "source": [
    "train.head()"
   ]
  },
  {
   "cell_type": "code",
   "execution_count": 70,
   "id": "a2a99046",
   "metadata": {},
   "outputs": [],
   "source": [
    "test[\"temp_ma5\"] = test[\"temp\"].rolling(5).mean()\n",
    "test[\"temp_ma10\"] = test[\"temp\"].rolling(10).mean()\n",
    "test[\"temp_ma15\"] = test[\"temp\"].rolling(15).mean()\n",
    "test[\"temp_ma20\"] = test[\"temp\"].rolling(20).mean()\n",
    "\n",
    "test[\"atemp_ma5\"] = test[\"atemp\"].rolling(5).mean()\n",
    "test[\"atemp_ma10\"] = test[\"atemp\"].rolling(10).mean()\n",
    "test[\"atemp_ma15\"] = test[\"atemp\"].rolling(15).mean()\n",
    "test[\"atemp_ma20\"] = test[\"atemp\"].rolling(20).mean()\n",
    "\n",
    "test[\"hum_ma5\"] = test[\"hum\"].rolling(5).mean()\n",
    "test[\"hum_ma10\"] = test[\"hum\"].rolling(10).mean()\n",
    "test[\"hum_ma15\"] = test[\"hum\"].rolling(15).mean()\n",
    "test[\"hum_ma20\"] = test[\"hum\"].rolling(20).mean()"
   ]
  },
  {
   "cell_type": "code",
   "execution_count": 71,
   "id": "df647691",
   "metadata": {},
   "outputs": [
    {
     "data": {
      "text/html": [
       "<div>\n",
       "<style scoped>\n",
       "    .dataframe tbody tr th:only-of-type {\n",
       "        vertical-align: middle;\n",
       "    }\n",
       "\n",
       "    .dataframe tbody tr th {\n",
       "        vertical-align: top;\n",
       "    }\n",
       "\n",
       "    .dataframe thead th {\n",
       "        text-align: right;\n",
       "    }\n",
       "</style>\n",
       "<table border=\"1\" class=\"dataframe\">\n",
       "  <thead>\n",
       "    <tr style=\"text-align: right;\">\n",
       "      <th></th>\n",
       "      <th>id</th>\n",
       "      <th>dteday</th>\n",
       "      <th>season</th>\n",
       "      <th>yr</th>\n",
       "      <th>mnth</th>\n",
       "      <th>hr</th>\n",
       "      <th>holiday</th>\n",
       "      <th>weekday</th>\n",
       "      <th>workingday</th>\n",
       "      <th>weathersit</th>\n",
       "      <th>...</th>\n",
       "      <th>temp_ma15</th>\n",
       "      <th>temp_ma20</th>\n",
       "      <th>atemp_ma5</th>\n",
       "      <th>atemp_ma10</th>\n",
       "      <th>atemp_ma15</th>\n",
       "      <th>atemp_ma20</th>\n",
       "      <th>hum_ma5</th>\n",
       "      <th>hum_ma10</th>\n",
       "      <th>hum_ma15</th>\n",
       "      <th>hum_ma20</th>\n",
       "    </tr>\n",
       "  </thead>\n",
       "  <tbody>\n",
       "    <tr>\n",
       "      <th>0</th>\n",
       "      <td>8646</td>\n",
       "      <td>2012-01-01</td>\n",
       "      <td>1</td>\n",
       "      <td>1</td>\n",
       "      <td>1</td>\n",
       "      <td>0</td>\n",
       "      <td>0</td>\n",
       "      <td>0</td>\n",
       "      <td>0</td>\n",
       "      <td>1</td>\n",
       "      <td>...</td>\n",
       "      <td>NaN</td>\n",
       "      <td>NaN</td>\n",
       "      <td>NaN</td>\n",
       "      <td>NaN</td>\n",
       "      <td>NaN</td>\n",
       "      <td>NaN</td>\n",
       "      <td>NaN</td>\n",
       "      <td>NaN</td>\n",
       "      <td>NaN</td>\n",
       "      <td>NaN</td>\n",
       "    </tr>\n",
       "    <tr>\n",
       "      <th>1</th>\n",
       "      <td>8647</td>\n",
       "      <td>2012-01-01</td>\n",
       "      <td>1</td>\n",
       "      <td>1</td>\n",
       "      <td>1</td>\n",
       "      <td>1</td>\n",
       "      <td>0</td>\n",
       "      <td>0</td>\n",
       "      <td>0</td>\n",
       "      <td>1</td>\n",
       "      <td>...</td>\n",
       "      <td>NaN</td>\n",
       "      <td>NaN</td>\n",
       "      <td>NaN</td>\n",
       "      <td>NaN</td>\n",
       "      <td>NaN</td>\n",
       "      <td>NaN</td>\n",
       "      <td>NaN</td>\n",
       "      <td>NaN</td>\n",
       "      <td>NaN</td>\n",
       "      <td>NaN</td>\n",
       "    </tr>\n",
       "    <tr>\n",
       "      <th>2</th>\n",
       "      <td>8648</td>\n",
       "      <td>2012-01-01</td>\n",
       "      <td>1</td>\n",
       "      <td>1</td>\n",
       "      <td>1</td>\n",
       "      <td>2</td>\n",
       "      <td>0</td>\n",
       "      <td>0</td>\n",
       "      <td>0</td>\n",
       "      <td>1</td>\n",
       "      <td>...</td>\n",
       "      <td>NaN</td>\n",
       "      <td>NaN</td>\n",
       "      <td>NaN</td>\n",
       "      <td>NaN</td>\n",
       "      <td>NaN</td>\n",
       "      <td>NaN</td>\n",
       "      <td>NaN</td>\n",
       "      <td>NaN</td>\n",
       "      <td>NaN</td>\n",
       "      <td>NaN</td>\n",
       "    </tr>\n",
       "    <tr>\n",
       "      <th>3</th>\n",
       "      <td>8649</td>\n",
       "      <td>2012-01-01</td>\n",
       "      <td>1</td>\n",
       "      <td>1</td>\n",
       "      <td>1</td>\n",
       "      <td>3</td>\n",
       "      <td>0</td>\n",
       "      <td>0</td>\n",
       "      <td>0</td>\n",
       "      <td>1</td>\n",
       "      <td>...</td>\n",
       "      <td>NaN</td>\n",
       "      <td>NaN</td>\n",
       "      <td>NaN</td>\n",
       "      <td>NaN</td>\n",
       "      <td>NaN</td>\n",
       "      <td>NaN</td>\n",
       "      <td>NaN</td>\n",
       "      <td>NaN</td>\n",
       "      <td>NaN</td>\n",
       "      <td>NaN</td>\n",
       "    </tr>\n",
       "    <tr>\n",
       "      <th>4</th>\n",
       "      <td>8650</td>\n",
       "      <td>2012-01-01</td>\n",
       "      <td>1</td>\n",
       "      <td>1</td>\n",
       "      <td>1</td>\n",
       "      <td>4</td>\n",
       "      <td>0</td>\n",
       "      <td>0</td>\n",
       "      <td>0</td>\n",
       "      <td>1</td>\n",
       "      <td>...</td>\n",
       "      <td>NaN</td>\n",
       "      <td>NaN</td>\n",
       "      <td>0.34242</td>\n",
       "      <td>NaN</td>\n",
       "      <td>NaN</td>\n",
       "      <td>NaN</td>\n",
       "      <td>0.74</td>\n",
       "      <td>NaN</td>\n",
       "      <td>NaN</td>\n",
       "      <td>NaN</td>\n",
       "    </tr>\n",
       "  </tbody>\n",
       "</table>\n",
       "<p>5 rows × 26 columns</p>\n",
       "</div>"
      ],
      "text/plain": [
       "     id      dteday  season  yr  mnth  hr  holiday  weekday  workingday  \\\n",
       "0  8646  2012-01-01       1   1     1   0        0        0           0   \n",
       "1  8647  2012-01-01       1   1     1   1        0        0           0   \n",
       "2  8648  2012-01-01       1   1     1   2        0        0           0   \n",
       "3  8649  2012-01-01       1   1     1   3        0        0           0   \n",
       "4  8650  2012-01-01       1   1     1   4        0        0           0   \n",
       "\n",
       "   weathersit  ...  temp_ma15  temp_ma20  atemp_ma5  atemp_ma10  atemp_ma15  \\\n",
       "0           1  ...        NaN        NaN        NaN         NaN         NaN   \n",
       "1           1  ...        NaN        NaN        NaN         NaN         NaN   \n",
       "2           1  ...        NaN        NaN        NaN         NaN         NaN   \n",
       "3           1  ...        NaN        NaN        NaN         NaN         NaN   \n",
       "4           1  ...        NaN        NaN    0.34242         NaN         NaN   \n",
       "\n",
       "   atemp_ma20  hum_ma5  hum_ma10  hum_ma15  hum_ma20  \n",
       "0         NaN      NaN       NaN       NaN       NaN  \n",
       "1         NaN      NaN       NaN       NaN       NaN  \n",
       "2         NaN      NaN       NaN       NaN       NaN  \n",
       "3         NaN      NaN       NaN       NaN       NaN  \n",
       "4         NaN     0.74       NaN       NaN       NaN  \n",
       "\n",
       "[5 rows x 26 columns]"
      ]
     },
     "execution_count": 71,
     "metadata": {},
     "output_type": "execute_result"
    }
   ],
   "source": [
    "test.head()"
   ]
  },
  {
   "cell_type": "code",
   "execution_count": 72,
   "id": "19da0271",
   "metadata": {},
   "outputs": [
    {
     "data": {
      "text/plain": [
       "0       NaN\n",
       "1       NaN\n",
       "2       NaN\n",
       "3       NaN\n",
       "4     0.232\n",
       "5     0.232\n",
       "6     0.232\n",
       "7     0.228\n",
       "8     0.228\n",
       "9     0.244\n",
       "10    0.272\n",
       "11    0.300\n",
       "12    0.344\n",
       "13    0.388\n",
       "14    0.416\n",
       "15    0.428\n",
       "16    0.440\n",
       "17    0.444\n",
       "18    0.436\n",
       "19    0.428\n",
       "Name: temp_ma5, dtype: float64"
      ]
     },
     "execution_count": 72,
     "metadata": {},
     "output_type": "execute_result"
    }
   ],
   "source": [
    "train['temp_ma5'].head(20)"
   ]
  },
  {
   "cell_type": "code",
   "execution_count": 73,
   "id": "d795fda4",
   "metadata": {},
   "outputs": [
    {
     "data": {
      "image/png": "[encoded data removed]",
      "text/plain": [
       "<Figure size 864x360 with 1 Axes>"
      ]
     },
     "metadata": {
      "needs_background": "light"
     },
     "output_type": "display_data"
    }
   ],
   "source": [
    "plt.figure(figsize = (12,5))\n",
    "plt.plot(train.index, train['temp_ma5'], label='ma5')\n",
    "plt.plot(train.index, train['temp_ma10'], label='ma10')\n",
    "plt.plot(train.index, train['temp_ma15'], label='ma15')\n",
    "plt.plot(train.index, train['temp_ma20'], label='ma20')\n",
    "\n",
    "plt.legend()\n",
    "plt.grid()"
   ]
  },
  {
   "cell_type": "code",
   "execution_count": null,
   "id": "b83796f2",
   "metadata": {},
   "outputs": [],
   "source": []
  },
  {
   "cell_type": "markdown",
   "id": "354007e7",
   "metadata": {},
   "source": [
    "### モデルの準備"
   ]
  },
  {
   "cell_type": "code",
   "execution_count": 74,
   "id": "6a2ef6de",
   "metadata": {},
   "outputs": [],
   "source": [
    "import xgboost as xgb\n",
    "from sklearn.model_selection import GridSearchCV"
   ]
  },
  {
   "cell_type": "code",
   "execution_count": 75,
   "id": "f8bc5080",
   "metadata": {},
   "outputs": [],
   "source": [
    "model = xgb.XGBRegressor()"
   ]
  },
  {
   "cell_type": "code",
   "execution_count": 76,
   "id": "0ef2e57e",
   "metadata": {},
   "outputs": [],
   "source": [
    "train = train.drop(['yr', 'id', 'dteday'], axis = 1)\n",
    "test = test.drop(['yr', 'id', 'dteday'], axis = 1)"
   ]
  },
  {
   "cell_type": "code",
   "execution_count": 77,
   "id": "a290b641",
   "metadata": {},
   "outputs": [],
   "source": [
    "trainX = train.copy()\n",
    "y = train['cnt']\n",
    "trainX = train.drop('cnt', axis=1)\n",
    "testX = test.copy()"
   ]
  },
  {
   "cell_type": "markdown",
   "id": "21332167",
   "metadata": {},
   "source": [
    "### パラメータのサーチ"
   ]
  },
  {
   "cell_type": "code",
   "execution_count": 79,
   "id": "570842c3",
   "metadata": {},
   "outputs": [],
   "source": [
    "gcv = GridSearchCV(model, {'max_depth': [6], 'n_estimators': [50,100,200]}, verbose=1, n_jobs=-1, return_train_score=True)"
   ]
  },
  {
   "cell_type": "code",
   "execution_count": 80,
   "id": "a95b55ab",
   "metadata": {},
   "outputs": [
    {
     "name": "stdout",
     "output_type": "stream",
     "text": [
      "Fitting 5 folds for each of 3 candidates, totalling 15 fits\n"
     ]
    },
    {
     "data": {
      "text/plain": [
       "GridSearchCV(estimator=XGBRegressor(base_score=None, booster=None,\n",
       "                                    colsample_bylevel=None,\n",
       "                                    colsample_bynode=None,\n",
       "                                    colsample_bytree=None, gamma=None,\n",
       "                                    gpu_id=None, importance_type='gain',\n",
       "                                    interaction_constraints=None,\n",
       "                                    learning_rate=None, max_delta_step=None,\n",
       "                                    max_depth=None, min_child_weight=None,\n",
       "                                    missing=nan, monotone_constraints=None,\n",
       "                                    n_estimators=100, n_jobs=None,\n",
       "                                    num_parallel_tree=None, random_state=None,\n",
       "                                    reg_alpha=None, reg_lambda=None,\n",
       "                                    scale_pos_weight=None, subsample=None,\n",
       "                                    tree_method=None, validate_parameters=None,\n",
       "                                    verbosity=None),\n",
       "             n_jobs=-1,\n",
       "             param_grid={'max_depth': [6], 'n_estimators': [50, 100, 200]},\n",
       "             return_train_score=True, verbose=1)"
      ]
     },
     "execution_count": 80,
     "metadata": {},
     "output_type": "execute_result"
    }
   ],
   "source": [
    "gcv.fit(trainX, y)"
   ]
  },
  {
   "cell_type": "code",
   "execution_count": 81,
   "id": "f64418da",
   "metadata": {
    "scrolled": true
   },
   "outputs": [
    {
     "data": {
      "text/plain": [
       "{'max_depth': 6, 'n_estimators': 50}"
      ]
     },
     "execution_count": 81,
     "metadata": {},
     "output_type": "execute_result"
    }
   ],
   "source": [
    "gcv.best_params_"
   ]
  },
  {
   "cell_type": "markdown",
   "id": "469ace55",
   "metadata": {},
   "source": [
    "### ベストパラメータで改めてモデル作成"
   ]
  },
  {
   "cell_type": "markdown",
   "id": "df8c3282",
   "metadata": {},
   "source": [
    "### 訓練データで精度チェック"
   ]
  },
  {
   "cell_type": "code",
   "execution_count": 82,
   "id": "6449d19e",
   "metadata": {},
   "outputs": [],
   "source": [
    "pred_train = gcv.predict(trainX)"
   ]
  },
  {
   "cell_type": "code",
   "execution_count": 83,
   "id": "0dd75da4",
   "metadata": {},
   "outputs": [
    {
     "data": {
      "text/plain": [
       "<AxesSubplot:>"
      ]
     },
     "execution_count": 83,
     "metadata": {},
     "output_type": "execute_result"
    },
    {
     "data": {
      "image/png": "[encoded data removed]",
      "text/plain": [
       "<Figure size 864x360 with 1 Axes>"
      ]
     },
     "metadata": {
      "needs_background": "light"
     },
     "output_type": "display_data"
    }
   ],
   "source": [
    "train_value = y.values\n",
    "_df = pd.DataFrame({'actual':train_value,'pred':pred_train})\n",
    "_df.plot(figsize=(12,5))"
   ]
  },
  {
   "cell_type": "markdown",
   "id": "9731daaf",
   "metadata": {},
   "source": [
    "### テストデータで予測"
   ]
  },
  {
   "cell_type": "code",
   "execution_count": 84,
   "id": "c68d75cb",
   "metadata": {},
   "outputs": [],
   "source": [
    "pred_test =  gcv.predict(testX)"
   ]
  },
  {
   "cell_type": "code",
   "execution_count": 85,
   "id": "5f3f8633",
   "metadata": {},
   "outputs": [
    {
     "data": {
      "text/plain": [
       "array([24.09843 , 35.696743, 28.55209 , ..., 57.178604, 39.714054,\n",
       "       20.677351], dtype=float32)"
      ]
     },
     "execution_count": 85,
     "metadata": {},
     "output_type": "execute_result"
    }
   ],
   "source": [
    "pred_test"
   ]
  },
  {
   "cell_type": "code",
   "execution_count": 86,
   "id": "6d4b4516",
   "metadata": {},
   "outputs": [],
   "source": [
    "i = 0\n",
    "for d in pred_test:\n",
    "    if d < 0:\n",
    "        d = 0\n",
    "    pred_test[i] = d\n",
    "    i = i + 1"
   ]
  },
  {
   "cell_type": "code",
   "execution_count": 87,
   "id": "2d20629a",
   "metadata": {},
   "outputs": [],
   "source": [
    "sample[1] = pred_test"
   ]
  },
  {
   "cell_type": "code",
   "execution_count": 88,
   "id": "a868e656",
   "metadata": {},
   "outputs": [],
   "source": [
    "sample.to_csv('submit3.csv', header=None, index=None)"
   ]
  },
  {
   "cell_type": "code",
   "execution_count": null,
   "id": "048798f1",
   "metadata": {},
   "outputs": [],
   "source": []
  }
 ],
 "metadata": {
  "kernelspec": {
   "display_name": "Python 3 (ipykernel)",
   "language": "python",
   "name": "python3"
  },
  "language_info": {
   "codemirror_mode": {
    "name": "ipython",
    "version": 3
   },
   "file_extension": ".py",
   "mimetype": "text/x-python",
   "name": "python",
   "nbconvert_exporter": "python",
   "pygments_lexer": "ipython3",
   "version": "3.9.6"
  }
 },
 "nbformat": 4,
 "nbformat_minor": 5
}
